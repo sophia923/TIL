{
 "cells": [
  {
   "cell_type": "markdown",
   "metadata": {},
   "source": [
    "# 메소드 없는 세상 <1>\n",
    "\n",
    "> 알파벳으로 이뤄진 word를 입력받아 알파벳 대소문자를 서로 교환한 결과를 반환하는 `my_swapcase(word)`를 작성해주세요.\n",
    "\n",
    "**`.upper()`, `.lower()`, `swapcase()`는 사용하지 말아주세요.**\n",
    "\n",
    "**Tip! 문자와 숫자에는 특별한 관계가 있습니다. Google에서 아스키 코드를 참고하세요**\n",
    "\n",
    "```python\n",
    "# 예시\n",
    "print(my_swapcase('hello, World!')) # => HELLO, wORLD!\n",
    "print(my_swapcase('@_@')) # => @_@\n",
    "print(my_swapcase('2^3은 8이다!')) # => 2^3은 8이다!\n",
    "```"
   ]
  },
  {
   "cell_type": "code",
   "execution_count": null,
   "metadata": {},
   "outputs": [],
   "source": [
    "# 아래에 코드를 작성해주세요.\n",
    "# 알파벳으로 이뤄진 word를 input 으로 입력받기\n",
    "# 대소문자 교환  ->"
   ]
  },
  {
   "cell_type": "code",
   "execution_count": null,
   "metadata": {},
   "outputs": [],
   "source": [
    "def my_swapcase(word):\n",
    "    result = ''\n",
    "    for char in word:\n",
    "        #대문자인지 소문자인지 파악하려면 아스키 코드\n",
    "        ascii_char = ord(char) #아스키코드 숫자로 변경 \n",
    "        if 65 <= ascii_char <= 90:  # A~Z\n",
    "            result += chr(ascii_char + 32) #대문자에서 소문자로 변경\n",
    "        elif 97 <= ascii_char <= 122: #a~z\n",
    "            result += chr(ascii_char - 32) # 소문자에서 대문자로 변경\n",
    "        else:\n",
    "            result += char\n",
    "    return result"
   ]
  },
  {
   "cell_type": "code",
   "execution_count": null,
   "metadata": {},
   "outputs": [],
   "source": [
    "print(my_swapcase('hello, World!'))\n",
    "print(my_swapcase('@_@'))\n",
    "print(my_swapcase('2^3은 8이다!'))"
   ]
  },
  {
   "cell_type": "markdown",
   "metadata": {},
   "source": [
    "# 메소드 없는 세상 <2>\n",
    "\n",
    "> 우리는 문자열을 만들어 나갈 때, `.join(iterable)` 함수를 사용합니다. \n",
    ">\n",
    "> `.join(iterable)`이 생각나지 않을 때를 위해 직접 만들어보면서 감사함을 느껴봅시다.\n",
    ">\n",
    "> `my_join(target, word)`를 만들어 문자열을 반환해주세요.\n",
    ">\n",
    "> target은 바꿀 대상(iterable)이며, word는 합쳐지는 단어입니다. \n",
    "\n",
    "---\n",
    "\n",
    "\n",
    "예시)\n",
    "\n",
    "`''.join(a)` 와 `my_join(a, '')`은 같은 함수 호출입니다.\n",
    "\n",
    "```python\n",
    "print(my_join('배고파', '.')) # => 배.고.파\n",
    "print(my_join(['1', '2', '3'], '')) # => 123\n",
    "```"
   ]
  },
  {
   "cell_type": "code",
   "execution_count": null,
   "metadata": {},
   "outputs": [],
   "source": [
    "# 아래에 코드를 작성해주세요.\n",
    "# 타겟에 들어오는 월드를 쪼겐다 split ? \n",
    "# 하나씩 뽑으려면 \n",
    "# for문을 쓴다 왜? 모르지나도 \n",
    "\n"
   ]
  },
  {
   "cell_type": "code",
   "execution_count": null,
   "metadata": {},
   "outputs": [],
   "source": [
    "def my_join(target, word):\n",
    "    # 첫 문자열은 원본의 첫번째 값\n",
    "    result = target[0]\n",
    "    for i in target[1:]:\n",
    "        result += word + i\n",
    "    return result"
   ]
  },
  {
   "cell_type": "code",
   "execution_count": null,
   "metadata": {},
   "outputs": [],
   "source": [
    "def my_join(target, word):\n",
    "    result = ''\n",
    "    for i in target[:-1]:\n",
    "        result += i + word\n",
    "    result += target[-1]\n",
    "    return result\n",
    "    "
   ]
  },
  {
   "cell_type": "code",
   "execution_count": null,
   "metadata": {},
   "outputs": [],
   "source": [
    "print(my_join('배고파', '.'))\n",
    "print(my_join(['1', '2', '3'], ''))"
   ]
  },
  {
   "cell_type": "markdown",
   "metadata": {},
   "source": [
    "#  가능한 적게 변경하기\n",
    "\n",
    "> 대문자와 소문자가 혼합되어 있는 문자열어 주어지며\n",
    ">\n",
    "> 다음의 기준에 따라서 문자열을 소문자 혹은 대문자로 변환하세요.\n",
    "\n",
    "\n",
    "*  가능한 적게 변경하세요.\n",
    "*  만약에 문자열의 대문자 혹은 소문자가 같다면, 문자열을 모두 소문자로 변경하세요.\n",
    "\n",
    "--- \n",
    "\n",
    "```python\n",
    "# 예시 입력) \n",
    "print(solve('coDe'))\n",
    "print(solve('CODe'))\n",
    "print(solve('coDE'))\n",
    "\n",
    "# 예시 출력)\n",
    "'code'\n",
    "'CODE'\n",
    "'code'\n",
    "```"
   ]
  },
  {
   "cell_type": "code",
   "execution_count": null,
   "metadata": {},
   "outputs": [],
   "source": [
    "# 아래에 코드를 작성해주세요.\n",
    "# 문자에서 각 대문자와 소문자 갯수 비교 len 쓰기 ?\n",
    "# if 대문자 갯수 > 소문자 \n",
    "# 대문자로 출력\n",
    "# elif 대문자 < 소문자\n",
    "# 소문자로 출력\n",
    "# else\n",
    "# 대문자 = 소문자\n",
    "#소문자로 출력 \n",
    "def solve(word):\n",
    "    result_1 = ''\n",
    "    result_2 = ''\n",
    "    for i in word:\n",
    "        if i.isupper():\n",
    "            result_1 += i\n",
    "        else:\n",
    "            result_2 += i\n",
    "    if len(result_2) >= len(result_1):\n",
    "        return word.lower()\n",
    "    else:\n",
    "        return word.upper()\n",
    "\n",
    "    "
   ]
  },
  {
   "cell_type": "code",
   "execution_count": null,
   "metadata": {},
   "outputs": [],
   "source": [
    "def solve(words):\n",
    "    upper = 0\n",
    "    lower = 0\n",
    "    # 대소문자를 각자 카운트\n",
    "    for word in words:\n",
    "        if word.islower():\n",
    "            lower += 1\n",
    "        else:\n",
    "            upper += 1\n",
    "    \n",
    "    \n",
    "    # 두 개의 카운트 값을 비교해서 원본을 변경\n",
    "    if lower == upper or lower > upper:\n",
    "        return words.lower()\n",
    "    else:\n",
    "        return words.upper()\n",
    "    \n",
    "    "
   ]
  },
  {
   "cell_type": "code",
   "execution_count": null,
   "metadata": {},
   "outputs": [],
   "source": [
    "# 대문자만 카운트/ 원본 길이의 절반보다 많으면 대문자로 변경 / 아니면 소문자로 변경\n",
    "def solve(words):\n",
    "    count = 0\n",
    "    for word in words:\n",
    "        if word.isupper():\n",
    "            count += 1\n",
    "    if count > len(words) / 2:\n",
    "        return words.upper()\n",
    "    else:\n",
    "        return words.lower()"
   ]
  },
  {
   "cell_type": "code",
   "execution_count": null,
   "metadata": {},
   "outputs": [],
   "source": [
    "def solve(words):\n",
    "    count = sum([1for word in words if word.isupper()])\n",
    "    if count > len(words) / 2:\n",
    "        return words.upper()\n",
    "    else:\n",
    "        return words.lower()"
   ]
  },
  {
   "cell_type": "code",
   "execution_count": null,
   "metadata": {},
   "outputs": [],
   "source": [
    "print(solve('coDe'))\n",
    "print(solve('CODe'))\n",
    "print(solve('coDE'))"
   ]
  },
  {
   "cell_type": "markdown",
   "metadata": {},
   "source": [
    "# 숨바꼭질\n",
    "\n",
    "> 숫자가 주어지면, 사용되지 않은 숫자를 프린트하세요.\n",
    "\n",
    "---\n",
    "\n",
    "```python\n",
    "# 예시)\n",
    "unused_digits(12, 34, 56, 78) # => '09'\n",
    "\n",
    "unused_digits(2015, 8, 26)  # => '3479'\n",
    "```\n",
    "\n",
    "\n",
    "**결과값은 정렬되어야 합니다.**\n",
    "\n"
   ]
  },
  {
   "cell_type": "code",
   "execution_count": null,
   "metadata": {},
   "outputs": [],
   "source": [
    "# 아래에 코드를 작성해주세요."
   ]
  },
  {
   "cell_type": "code",
   "execution_count": null,
   "metadata": {},
   "outputs": [],
   "source": [
    "# 비교할 수 있는 set 구문을 하나 만들고 set('01023456789') => {'0', '1', '2' ....}\n",
    "# 입력된 값도 문자열 타입 + set 로 변경해서 \n",
    "# 비교 set 에서 입력된 set를 뺌\n",
    "# 그러면 안 쓴 번호만 남게 되는데 걔를 정렬하고 문자열로 합치면 됨\n",
    "\n",
    "def unused_digits(*args):\n",
    "    word = set('0123456789') # == set(map(str, range(10)))\n",
    "    for arg in args:\n",
    "        word -= set(str(arg))\n",
    "    return ''.join(sorted(word))"
   ]
  },
  {
   "cell_type": "markdown",
   "metadata": {},
   "source": [
    "- iterable: 시퀀스(문자열, 리스트, 튜플, 등등 있음)\n",
    "\n",
    "- collection : set, dict,... "
   ]
  },
  {
   "cell_type": "code",
   "execution_count": null,
   "metadata": {},
   "outputs": [],
   "source": [
    "print(unused_digits(12, 34, 56, 78))\n",
    "print(unused_digits(2015, 8, 26))"
   ]
  },
  {
   "cell_type": "markdown",
   "metadata": {},
   "source": [
    "# 짝홀짝홀"
   ]
  },
  {
   "cell_type": "markdown",
   "metadata": {},
   "source": [
    "> n개의 양의 정수 리스트가 주어지면, 홀수와 짝수를 분리하고 각각의 조건에 맞게 홀수와 짝수를 \n",
    "정렬하세요.\n",
    "\n",
    "> 조건\n",
    "1. 짝수와 홀수가 번갈아 가면서 나오게 됩니다.\n",
    "2. 짝수가 먼저 시작됩니다.\n",
    "3. 짝수는 오름차순으로 홀수는 내림차순으로 되어야합니다.\n",
    "\n",
    "> 실습 입력 인자 조건\n",
    "1. 인자 리스트의 크기는 적어도 4이상입니다.\n",
    "2. 인자 리스트의 요소값으로 0은 존재하지 않습니다.\n",
    "3. 인자 리스트의 요소값이 반복될 수 있으나 출력할 때는 중복 값이 없습니다.\n",
    "\n",
    "```python\n",
    "# 예시) \n",
    "\n",
    "print(even_and_odd([7, 3 , 14 , 17]))\n",
    "# => [14, 17, 7, 3]\n",
    "\n",
    "print(even_and_odd([1, 3, 5, 7, 9, 11]))\n",
    "# => [11, 9, 7, 5, 3, 1]\n",
    "\n",
    "print(even_and_odd([1, 2, 2, 4, 4, 6, 6, 2004, 9, 11]))\n",
    "# => [2, 11, 4, 9, 6, 1, 2004]\n",
    "```"
   ]
  },
  {
   "cell_type": "code",
   "execution_count": null,
   "metadata": {},
   "outputs": [],
   "source": [
    "# 여기에 코드를 작성하세요\n",
    "# n개의 양의 정수 리스트 홀짝 정렬 \n",
    "\n",
    "def even_and_odd(numbers):\n",
    "    even = []\n",
    "    odd = []\n",
    "    for i in numbers:\n",
    "        if i % 2:\n",
    "            odd.append(i)\n",
    "        else:\n",
    "            even.append(i)\n",
    "#     print(sorted(even))\n",
    "#     print(sorted(odd, reverse=False))\n",
    "    evens = sorted(even)\n",
    "    odds = sorted(odd, reverse=False)"
   ]
  },
  {
   "cell_type": "code",
   "execution_count": null,
   "metadata": {},
   "outputs": [],
   "source": [
    "help(sorted)"
   ]
  },
  {
   "cell_type": "code",
   "execution_count": null,
   "metadata": {},
   "outputs": [],
   "source": [
    "# 1 pop() => return \n",
    "# set으로 중복제거후 리스트로 변경 후 정렬\n",
    "# 짝수 리스트랑 홀수 리스트를 따로 분류\n",
    "# 둘다 오름차순 상태인데. pop을 사용할 것이기 때문에 문제와 반대로 정렬해야한다. \n",
    "def even_and_odd(numbers):\n",
    "    numbers = sorted(list(set(numbers)))\n",
    "    even = []\n",
    "    odd = []\n",
    "    result = []\n",
    "    for number in numbers:\n",
    "        if number % 2:\n",
    "            odd.append(number)\n",
    "        else:\n",
    "            even.append(number)\n",
    "    \n",
    "    even = even[::-1] # 뒤집기 # 짝수는 내림차순으로 변경 왜? 아래에서 pop으로 뒤에서 꺼낼 것이기 때문\n",
    "    \n",
    "    # 짝수 리스트와 홀수 리스트가 모두 빌 때까지 반복 / 새로운 결과 리스트에 짝수부터 넣기\n",
    "    # 종료조건은 짝수와 홀수가 0이 될때\n",
    "\n",
    "    while True:\n",
    "        if len(even)== 0 and len(odd)==0:\n",
    "            break\n",
    "        if len(even):\n",
    "            result.append(even.pop())\n",
    "        if len(odd):\n",
    "            result.append(odd.pop())\n",
    "    return result"
   ]
  },
  {
   "cell_type": "code",
   "execution_count": null,
   "metadata": {
    "scrolled": true
   },
   "outputs": [],
   "source": [
    "print(even_and_odd([7, 3, 14, 17]))\n",
    "print(even_and_odd([1, 3, 5, 7, 9, 11]))\n",
    "print(even_and_odd([1, 2, 2, 4, 4, 6, 6, 2004, 9, 11]))"
   ]
  },
  {
   "cell_type": "markdown",
   "metadata": {},
   "source": [
    "# 문자열 계산하기\n",
    "\n",
    "> 아래와 같이 문자열이 주어졌을 때, 바보같은 사용자를 위해 계산을 해주려고 한다.\n",
    ">\n",
    "> 이 계산기는 더하기와 빼기밖에 못한다.\n",
    ">\n",
    "> `calc(equation)`을 만들어봅시다.\n",
    "\n",
    "\n",
    "```python\n",
    "# 예시\n",
    "calc('123+2-124')\n",
    "#=> 1\n",
    "\n",
    "calc('-12+12-7979+9191')\n",
    "#=> 1212\n",
    "\n",
    "calc('+1-1+1-1+1-1+1-1+1-1+1-1+1-1+1-1+1-1+1-1+1-1+1-1+1-1+1-1+1-1+1-1')\n",
    "#=> 0\n",
    "```"
   ]
  },
  {
   "cell_type": "code",
   "execution_count": null,
   "metadata": {},
   "outputs": [],
   "source": [
    "# 여기에 코드를 작성하세요.\n",
    "class calc:\n",
    "    def __init__(self, main):\n",
    "    \n",
    "    @staticmethod\n",
    "    def add(a, b):\n",
    "        return a + b\n",
    "    \n",
    "    \n",
    "    @staticmethod\n",
    "    def sub(a, b):\n",
    "        return a - b"
   ]
  },
  {
   "cell_type": "code",
   "execution_count": null,
   "metadata": {},
   "outputs": [],
   "source": [
    "# replace()\n",
    "def calc(equation):\n",
    "    equation = equation.replace('+', ' +')\n",
    "   \n",
    "    equation = equation.replace('-', ' -')\n",
    "#     print(equation)\n",
    "#     result = equation.split() #문자열이여서 스플릿씀\n",
    "#     print(result)\n",
    "    return sum(map(int, equation.split()))"
   ]
  },
  {
   "cell_type": "code",
   "execution_count": null,
   "metadata": {},
   "outputs": [],
   "source": [
    "print(calc('123+2-124'))\n",
    "print(calc('-12+12-7979+9191'))\n",
    "print(calc('+1-1+1-1+1-1+1-1+1-1+1-1+1-1+1-1+1-1+1-1+1-1+1-1+1-1+1-1+1-1+1-1'))"
   ]
  },
  {
   "cell_type": "code",
   "execution_count": null,
   "metadata": {},
   "outputs": [],
   "source": []
  }
 ],
 "metadata": {
  "kernelspec": {
   "display_name": "Python 3",
   "language": "python",
   "name": "python3"
  },
  "language_info": {
   "codemirror_mode": {
    "name": "ipython",
    "version": 3
   },
   "file_extension": ".py",
   "mimetype": "text/x-python",
   "name": "python",
   "nbconvert_exporter": "python",
   "pygments_lexer": "ipython3",
   "version": "3.7.3"
  },
  "latex_envs": {
   "LaTeX_envs_menu_present": true,
   "autoclose": false,
   "autocomplete": true,
   "bibliofile": "biblio.bib",
   "cite_by": "apalike",
   "current_citInitial": 1,
   "eqLabelWithNumbers": true,
   "eqNumInitial": 1,
   "hotkeys": {
    "equation": "Ctrl-E",
    "itemize": "Ctrl-I"
   },
   "labels_anchors": false,
   "latex_user_defs": false,
   "report_style_numbering": false,
   "user_envs_cfg": false
  },
  "toc": {
   "base_numbering": 1,
   "nav_menu": {},
   "number_sections": true,
   "sideBar": true,
   "skip_h1_title": false,
   "title_cell": "Table of Contents",
   "title_sidebar": "Contents",
   "toc_cell": false,
   "toc_position": {},
   "toc_section_display": true,
   "toc_window_display": false
  }
 },
 "nbformat": 4,
 "nbformat_minor": 2
}
