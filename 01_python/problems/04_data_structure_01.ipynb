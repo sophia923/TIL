{
 "cells": [
  {
   "cell_type": "markdown",
   "metadata": {},
   "source": [
    "# 소대소대\n",
    "\n",
    "> 단어의 짝수번째 알파벳은 대문자로, 홀수번째 알파벳은 소문자로 바꾼 문자열을 return 하는 함수 `up_and_low`을 작성하세요.\n",
    "\n",
    "예시)\n",
    "```python\n",
    "print(up_and_low('appleppie')) #=> aPpLePiE\n",
    "print(up_and_low('spaceship')) #=> sPaCeShIp\n",
    "```"
   ]
  },
  {
   "cell_type": "code",
   "execution_count": null,
   "metadata": {},
   "outputs": [],
   "source": [
    "# 여기에 코드를 작성하세요.\n",
    "# 단어를 짝수 홀수로 우선 나눈다\n",
    "# 그리고 짝수 에다가 upper 넣고\n",
    "# 홀수에다가 lower 넣는다\n",
    "# 마지막으로 둘이 합친다. \n",
    "def up_and_low(s):\n",
    "    result = str()\n",
    "    for i, a in enumerate(s):\n",
    "        if i % 2:\n",
    "            a = a.upper()\n",
    "        else:\n",
    "            a = a.lower()\n",
    "        result += a\n",
    "    return result"
   ]
  },
  {
   "cell_type": "code",
   "execution_count": null,
   "metadata": {},
   "outputs": [],
   "source": [
    "def up_and_low(word):\n",
    "    new_str = ''\n",
    "    for idx, char in enumerate(word):\n",
    "        if idx % 2: #인덱스가 홀수번째면 실제로 짝수번째를 변경하는 것!\n",
    "            new_str += char.upper()\n",
    "        else:\n",
    "            new_str += char.lower()\n",
    "    return new_str"
   ]
  },
  {
   "cell_type": "code",
   "execution_count": null,
   "metadata": {},
   "outputs": [],
   "source": [
    "def up_and_low(word):\n",
    "    new_list = [char.upper() if idx%2 else char.lower() for idx, char in enumerate(word)]\n",
    "    print(new_list)\n",
    "    return ''.join(new_list)"
   ]
  },
  {
   "cell_type": "code",
   "execution_count": null,
   "metadata": {},
   "outputs": [],
   "source": [
    "# 해당 코드를 통해 올바른 결과가 나오는지 확인하세요.\n",
    "print(up_and_low('appleppie'))\n",
    "print(up_and_low('spaceship'))\n",
    "\n",
    "print(up_and_low('spaceSHIp'))"
   ]
  },
  {
   "cell_type": "markdown",
   "metadata": {},
   "source": [
    "# 통과한 시험\n",
    "\n",
    "> 딕셔너리 형태로 언어 및 각 테스트의 결과가 주어지면 테스트 점수가 60 이상인 언어 목록의 결과를 내림차순으로 정렬된 리스트를 반환하는 `passpass` 함수를 작성하세요. (중복되는 점수는 없습니다.)\n",
    "\n",
    "예시)\n",
    "\n",
    "```python\n",
    "passpass({'Java': 10, 'Ruby': 80, 'Python': 65}) #=> ['Ruby', 'Python']\n",
    "```"
   ]
  },
  {
   "cell_type": "code",
   "execution_count": 1,
   "metadata": {},
   "outputs": [],
   "source": [
    "# 여기에 코드를 작성하세요.\n",
    "# 빈 리스트 추가 \n",
    "# 언어 및 각 테스트이 결과를 append로 추가 \n",
    "# if절을 사용해서 60점 이상인 언어 목록 결과 표현하고 \n",
    "# a.sort(reverse=True) 언어 목록 결과를 내림차순으로 정렬\n",
    "\n",
    "\n",
    "def passpass(test):\n",
    "    pass_subject = []\n",
    "    for subject, score in test.items():\n",
    "        if score >= 60:\n",
    "            pass_subject.append(subject)\n",
    "    return sorted(pass_subject, reverse = True)\n",
    "    \n"
   ]
  },
  {
   "cell_type": "code",
   "execution_count": null,
   "metadata": {},
   "outputs": [],
   "source": [
    "# 내림차순 / 값이 60점 이상인 애들을 리스트에 넣기 \n",
    "# 새로 만든 리스트랑 원본 딕셔너리의 키의 값과 비교해서 같으면 그 키를 가져오면 됨 "
   ]
  },
  {
   "cell_type": "code",
   "execution_count": 3,
   "metadata": {},
   "outputs": [],
   "source": [
    "def passpass(results):\n",
    "    #60점 이상인 점수 뽑아보기 ( +내림차순)\n",
    "    list_1 = [] #value \n",
    "    for value in sorted(results.values(), reverse = True):\n",
    "        if value >= 60:\n",
    "            list_1.append(value)\n",
    "    #list_1 반복해서 원본 딕셔너리 값과 같은 상황에서 그 키를 새로운 리스트에 넣는다. \n",
    "    list_2 = []\n",
    "    for num in list_1:\n",
    "        for key, value in results.items():\n",
    "            if num == value:\n",
    "                list_2.append(key)\n",
    "    return list_2"
   ]
  },
  {
   "cell_type": "code",
   "execution_count": 4,
   "metadata": {},
   "outputs": [
    {
     "name": "stdout",
     "output_type": "stream",
     "text": [
      "['C++', 'Ruby', 'Python']\n"
     ]
    }
   ],
   "source": [
    "# 해당 코드를 통해 올바른 결과가 나오는지 확인하세요.\n",
    "print(passpass({'Java': 10, 'Ruby': 80, 'Python': 65, 'C++' : 90}))"
   ]
  },
  {
   "cell_type": "markdown",
   "metadata": {},
   "source": [
    "# 삼각수\n",
    "\n",
    "> 삼각수는 1, 1+2, 1+2+3, 1+2+3+4, ... 의 결과에 해당하는 수를 뜻합니다. \n",
    ">\n",
    "> 따라서, 1, 3, 6, 10, 15, 21, 28, 36, 45, 55, 66, 78, 91, 105, 120,..는 삼각수입니다. \n",
    ">\n",
    "> 양의 정수를 입력받아 삼각수에 해당하는지 확인하는 `is_triangular`를 작성하세요.\n",
    "\n",
    "```python\n",
    "# 예시)\n",
    "print(is_triangular(5050))\n",
    "print(is_triangular(57))\n",
    "\n",
    "True\n",
    "False\n",
    "```"
   ]
  },
  {
   "cell_type": "code",
   "execution_count": null,
   "metadata": {},
   "outputs": [],
   "source": [
    "# 아래에 코드를 작성하세요.\n",
    "# 양의 정수 int >0 \n",
    "\n",
    "# 삼각수 공식 대입 (n**2 + n) / 2\n",
    "# if is_triangular(삼각수공식):\n",
    "# True\n",
    "# else:\n",
    "# None\n",
    "\n",
    "\n",
    "def is_triangular(n):\n",
    "    for i in range(1, n):\n",
    "        (i(i+1)) / 2\n",
    "        \n",
    "    \n",
    "        "
   ]
  },
  {
   "cell_type": "code",
   "execution_count": null,
   "metadata": {},
   "outputs": [],
   "source": [
    "# 10 이 들어온다면 \n",
    "\n",
    "10 - 1 = 9\n",
    "9 - 2 = 7\n",
    "7 - 3 = 4\n",
    "4 - 4 = 0\n",
    "\n",
    "# 1부터 빼 나아간다면 ?? \n"
   ]
  },
  {
   "cell_type": "code",
   "execution_count": null,
   "metadata": {},
   "outputs": [],
   "source": [
    "def is_triangular(number):\n",
    "    sub = 1\n",
    "    while number > 0 :\n",
    "        number -= sub\n",
    "        sub += 1\n",
    "    return not number # 0이 삼각수이기 때문에 false가 삼각수다.\n"
   ]
  },
  {
   "cell_type": "code",
   "execution_count": null,
   "metadata": {},
   "outputs": [],
   "source": [
    "# 해당 코드를 통해 올바른 결과가 나오는지 확인하세요.\n",
    "print(is_triangular(5050))\n",
    "print(is_triangular(57))"
   ]
  },
  {
   "cell_type": "markdown",
   "metadata": {},
   "source": [
    "# 나만의 딕셔너리 생성기\n",
    "\n",
    "> key의 리스트와 value의 리스트로 딕셔너리를 생성하여 return 하는 `create_dict(keys, values)` 함수를 작성하세요.\n",
    ">\n",
    ">만약에 value의 갯수가 key의 갯수보다 부족한 경우, None을 채워 넣어야 합니다. 반대로 key의 갯수가 부족한 경우, 초과하는 value들은 무시해도 됩니다.\n",
    "\n",
    "```python\n",
    "# 예시)\n",
    "print(create_dict(['a', 'b', 'c', 'd'], [1, 2, 3]))\n",
    "print(create_dict(['a', 'b', 'c'], [1, 2, 3, 4]))\n",
    "\n",
    "{'a': 1, 'b': 2, 'c': 3, 'd': None}\n",
    "{'a': 1, 'b': 2, 'c': 3}\n",
    "```"
   ]
  },
  {
   "cell_type": "code",
   "execution_count": 8,
   "metadata": {},
   "outputs": [],
   "source": [
    "# 아래에 코드를 작성하세요.\n",
    "# 빈 리스트를 만든다 \n",
    "# my_dict = []\n",
    "# def create_dict(keys, values)\n",
    "# fillvalues = None\n",
    "# zip 은 사용해봐랑~\n",
    "\n",
    "def create_dict(keys, values):\n",
    "    \n",
    "    while len(keys) >= len(values): #둘의 길이가 같아지면 while문 종료\n",
    "        \n",
    "#         my_dict = {key : value for key, value in zip(keys, values)}\n",
    "        values.append(None)\n",
    "    my_dict = {key : value for key, value in zip(keys, values)}\n",
    "    return my_dict"
   ]
  },
  {
   "cell_type": "code",
   "execution_count": 10,
   "metadata": {},
   "outputs": [],
   "source": [
    "# 두 리스트를 비교해서 value 리스트가 더 짧다면 두 길이가 같아질때까지 value 리스트에  None을 append\n",
    "def create_dict(keys, values):\n",
    "    new_dict = {}\n",
    "    for i in range(len(keys)):\n",
    "        if i < len(values):\n",
    "            new_dict[keys[i]] = values[i]\n",
    "#             new_dict.update({keys[i]: values[i]})\n",
    "        else:\n",
    "            new_dict[keys[i]] = None\n",
    "    return new_dict"
   ]
  },
  {
   "cell_type": "code",
   "execution_count": 15,
   "metadata": {},
   "outputs": [],
   "source": [
    "# zip\n",
    "# 두 리스트를 비교해서 value 리스트가 더 짧다면 두 길이가 같아질때까지 value 리스트에  None을 append\n",
    "def create_dict(keys, values):\n",
    "    while len(keys) > len(values): #values가 계속 길어질 것이기 때문, 그래서 저 부등호가 깨지는 즉, 같아지는 순간까지 None추가\n",
    "        values.append(None)\n",
    "    \n",
    "    result = dict(zip(keys, values))\n",
    "    return result"
   ]
  },
  {
   "cell_type": "code",
   "execution_count": 17,
   "metadata": {},
   "outputs": [],
   "source": [
    "#3. \n",
    "# 두리스트의 길이 차이가(keys-values) 0 보다 크다면 그 차이만큼 values에  None을 넣는다. \n",
    "def create_dict(keys, values):\n",
    "    diff = len(keys) - len(values)\n",
    "    if diff > 0:\n",
    "        values += [None] * diff\n",
    "    result = dict(zip(keys, values))\n",
    "    return result"
   ]
  },
  {
   "cell_type": "code",
   "execution_count": 18,
   "metadata": {},
   "outputs": [
    {
     "name": "stdout",
     "output_type": "stream",
     "text": [
      "{'a': 1, 'b': 2, 'c': 3, 'd': None}\n",
      "{'a': 1, 'b': 2, 'c': 3}\n"
     ]
    }
   ],
   "source": [
    "# 해당 코드를 통해 올바른 결과가 나오는지 확인하세요.\n",
    "print(create_dict(['a', 'b', 'c', 'd'], [1, 2, 3]))\n",
    "print(create_dict(['a', 'b', 'c'], [1, 2, 3, 4]))"
   ]
  },
  {
   "cell_type": "markdown",
   "metadata": {},
   "source": [
    "# 딕셔너리 뒤집기\n",
    "\n",
    "> 딕셔너리는 기본적으로 key와 value로 이뤄져있습니다. \n",
    ">\n",
    "> 딕셔너리를 입력받아 value와 key를 뒤집은 결과를 반환하는 `dict_invert`를 만들어봅시다. \n",
    "\n",
    "```python\n",
    "# 예시)\n",
    "print(dict_invert({1: 10, 2: 20, 3: 30}))\n",
    "print(dict_invert({1: 10, 2: 20, 3: 30, 4: 30}))\n",
    "print(dict_invert({1: True, 2: True, 3: True}))\n",
    "\n",
    "{10: [1], 20: [2], 30: [3]}\n",
    "{10: [1], 20: [2], 30: [3, 4]}\n",
    "{True: [1, 2, 3]}\n",
    "```"
   ]
  },
  {
   "cell_type": "code",
   "execution_count": null,
   "metadata": {},
   "outputs": [],
   "source": [
    "# 아래에 코드를 작성하세요.\n",
    "def dict_invert(my_dict):\n",
    "    result = {}\n",
    "    for key, value in my_dict.items():\n",
    "        \n",
    "        if value in result:\n",
    "            result[value] += [key]\n",
    "        else:\n",
    "            result[value] = [key]\n",
    "    return result"
   ]
  },
  {
   "cell_type": "code",
   "execution_count": 22,
   "metadata": {},
   "outputs": [],
   "source": [
    "# items 로 반복해서 새로운 딕셔너리에 값은 키로 키는 값으로 넣는데, \n",
    "# 넣기 전에 값이 이미 새로운 딕셔너리 키 값에 있다면 키를 그 값의 리스트로 넣어야함\n",
    "def dict_invert(my_dict):\n",
    "    result = {}\n",
    "    for key, value in my_dict.items():  \n",
    "        if value in result:\n",
    "            result[value].append(key)\n",
    "        else:\n",
    "            result[value] = [key]\n",
    "    return result"
   ]
  },
  {
   "cell_type": "code",
   "execution_count": 23,
   "metadata": {},
   "outputs": [
    {
     "name": "stdout",
     "output_type": "stream",
     "text": [
      "{10: [1], 20: [2], 30: [3]}\n",
      "{10: [1], 20: [2], 30: [3, 4]}\n",
      "{True: [1, 2, 3]}\n"
     ]
    }
   ],
   "source": [
    "# 해당 코드를 통해 올바른 결과가 나오는지 확인하세요.\n",
    "print(dict_invert({1: 10, 2: 20, 3: 30}))\n",
    "print(dict_invert({1: 10, 2: 20, 3: 30, 4: 30}))\n",
    "print(dict_invert({1: True, 2: True, 3: True}))"
   ]
  },
  {
   "cell_type": "markdown",
   "metadata": {},
   "source": [
    "# 시험 채점 시스템\n",
    "\n",
    "> 첫 번째 인자는 정답이 들어있는 리스트, 두 번째 인자는 사용자의 답이 들어있는 리스트입니다. 두 리스트는 비어있지 않으며 길이가 같습니다.\n",
    ">\n",
    "> 정답의 경우 +4점, 오답의 경우 -1점, 공백 응답(빈 문자열)의 경우 0점입니다. 만약, 점수가 0보다 작으면 0을 return 합니다.\n",
    ">\n",
    "> 위와 같이 시험 점수를 체크하는 함수 `check_score(real_answers, my_answers)` 을 작성하세요.\n",
    "\n",
    "\n",
    "\n",
    "```python\n",
    "# 예시)\n",
    "print(check_score(['a', 'a', 'b', 'b'], ['a', 'c', 'b', 'd']))\n",
    "print(check_score(['a', 'a', 'c', 'b'], ['a', 'a', 'b', '']))\n",
    "print(check_score(['a', 'a', 'b', 'c'], ['a', 'a', 'b', 'c']))\n",
    "print(check_score(['b', 'c', 'b', 'a'], ['', 'a', 'a', 'c'])\n",
    "\n",
    "6\n",
    "7\n",
    "16\n",
    "0\n",
    "```"
   ]
  },
  {
   "cell_type": "code",
   "execution_count": null,
   "metadata": {},
   "outputs": [],
   "source": [
    "# 여기에 코드를 작성하세요.\n",
    "첫번째 인자  [0] 은 정답이 들어있는 리스트\n",
    "두번째 인자 [1] 은 사용자 답이 들어있는 리스트\n",
    "if 정답 = 사용자 답 이면 +4점 (여기서 append ? 추가 ? 그냥 덧셈? // update 딕셔너리에 인자를 추가할때 )\n",
    "elif 정답 ! = 정답 이면 -1(어떤 연산자를 쓰지 ?)\n",
    "else 사용자 답 = ''(공란) 이면 0점\n",
    "\n",
    "\n",
    "사용자 답 < 0 \n",
    "return \n"
   ]
  },
  {
   "cell_type": "code",
   "execution_count": null,
   "metadata": {},
   "outputs": [],
   "source": [
    "def check_score(real_answers, my_answers):\n",
    "    score = 0\n",
    "    for i in range(0, len(my_answers)):\n",
    "        if real_answers[i] == my_answers[i]:\n",
    "            score += 4\n",
    "        elif my_answers[i] == '':\n",
    "            score = 0\n",
    "        else: \n",
    "            score += -1\n",
    "    \n",
    "    score = [0 for x in range(0, len(my_answers)) if score < 0]\n",
    "# 만약, 점수가 0보다 작으면 0을 return \n",
    "    return score.j"
   ]
  },
  {
   "cell_type": "code",
   "execution_count": 27,
   "metadata": {},
   "outputs": [],
   "source": [
    "def check_score(real_answers, my_answers):\n",
    "    score = 0\n",
    "    for i in range(0, len(real_answers)):\n",
    "        if real_answers[i] == my_answers[i]:\n",
    "            score += 4\n",
    "        elif my_answers[i] == '':\n",
    "            score = score\n",
    "        else: \n",
    "            score += -1\n",
    "#     if score < 0:\n",
    "#         score = 0\n",
    "#     score = [0 for x in range(0, len(my_answers)) if score < 0]\n",
    "# 만약, 점수가 0보다 작으면 0을 return \n",
    "    return score if score >= 0 else 0"
   ]
  },
  {
   "cell_type": "code",
   "execution_count": null,
   "metadata": {},
   "outputs": [],
   "source": []
  },
  {
   "cell_type": "code",
   "execution_count": 30,
   "metadata": {},
   "outputs": [
    {
     "name": "stdout",
     "output_type": "stream",
     "text": [
      "6\n",
      "7\n",
      "16\n",
      "0\n"
     ]
    }
   ],
   "source": [
    "# 해당 코드를 통해 올바른 결과가 나오는지 확인하세요.\n",
    "print(check_score(['a', 'a', 'b', 'b'], ['a', 'c', 'b', 'd']))\n",
    "print(check_score(['a', 'a', 'c', 'b'], ['a', 'a', 'b', '']))\n",
    "print(check_score(['a', 'a', 'b', 'c'], ['a', 'a', 'b', 'c']))\n",
    "print(check_score(['b', 'c', 'b', 'a'], ['', 'a', 'a', 'c']))"
   ]
  },
  {
   "cell_type": "code",
   "execution_count": 34,
   "metadata": {},
   "outputs": [],
   "source": [
    "def check_score(real_answers, my_answers):\n",
    "    return max(0, sum([4 if real==my else -1 for real, my in zip(real_answers, my_answers) if my]))"
   ]
  },
  {
   "cell_type": "code",
   "execution_count": 35,
   "metadata": {},
   "outputs": [
    {
     "name": "stdout",
     "output_type": "stream",
     "text": [
      "6\n",
      "7\n",
      "16\n",
      "0\n"
     ]
    }
   ],
   "source": [
    "print(check_score(['a', 'a', 'b', 'b'], ['a', 'c', 'b', 'd']))\n",
    "print(check_score(['a', 'a', 'c', 'b'], ['a', 'a', 'b', '']))\n",
    "print(check_score(['a', 'a', 'b', 'c'], ['a', 'a', 'b', 'c']))\n",
    "print(check_score(['b', 'c', 'b', 'a'], ['', 'a', 'a', 'c']))"
   ]
  },
  {
   "cell_type": "code",
   "execution_count": null,
   "metadata": {},
   "outputs": [],
   "source": []
  }
 ],
 "metadata": {
  "kernelspec": {
   "display_name": "Python 3",
   "language": "python",
   "name": "python3"
  },
  "language_info": {
   "codemirror_mode": {
    "name": "ipython",
    "version": 3
   },
   "file_extension": ".py",
   "mimetype": "text/x-python",
   "name": "python",
   "nbconvert_exporter": "python",
   "pygments_lexer": "ipython3",
   "version": "3.7.3"
  },
  "latex_envs": {
   "LaTeX_envs_menu_present": true,
   "autoclose": false,
   "autocomplete": true,
   "bibliofile": "biblio.bib",
   "cite_by": "apalike",
   "current_citInitial": 1,
   "eqLabelWithNumbers": true,
   "eqNumInitial": 1,
   "hotkeys": {
    "equation": "Ctrl-E",
    "itemize": "Ctrl-I"
   },
   "labels_anchors": false,
   "latex_user_defs": false,
   "report_style_numbering": false,
   "user_envs_cfg": false
  },
  "toc": {
   "base_numbering": 1,
   "nav_menu": {},
   "number_sections": true,
   "sideBar": true,
   "skip_h1_title": false,
   "title_cell": "Table of Contents",
   "title_sidebar": "Contents",
   "toc_cell": false,
   "toc_position": {},
   "toc_section_display": true,
   "toc_window_display": false
  }
 },
 "nbformat": 4,
 "nbformat_minor": 2
}
