{
 "cells": [
  {
   "cell_type": "code",
   "execution_count": null,
   "metadata": {},
   "outputs": [],
   "source": [
    "from IPython.display import IFrame"
   ]
  },
  {
   "cell_type": "markdown",
   "metadata": {},
   "source": [
    "# OOP with python\n",
    "\n",
    "## 시작하기전에\n",
    "\n",
    "<wikipedia - 객체지향 프로그래밍> \n",
    ">\n",
    "> 객체 지향 프로그래밍(영어: Object-Oriented Programming, OOP)은 컴퓨터 프로그래밍의 패러다임의 하나이다. 객체 지향 프로그래밍은 컴퓨터 프로그램을 명령어의 목록으로 보는 시각에서 벗어나 여러 개의 독립된 단위, 즉 \"객체\"들의 모임으로 파악하고자 하는 것이다. 각각의 객체는 메시지를 주고받고, 데이터를 처리할 수 있다.\n",
    ">\n",
    "> 명령형 프로그래밍인 절차지향 프로그래밍에서 발전된 형태를 나타내며, 기본 구성요소는 다음과 같다.\n",
    "\n",
    "* 클래스(Class) \n",
    "    - 객체를 표현하는 문법.\n",
    "    - 같은 종류(또는 문제 해결을 위한)의 집단에 속하는 **속성(attribute)**과 **행위(behavior)**를 정의한 것으로 객체지향 프로그램의 기본적인 사용자 정의 데이터형(user define data type)이라고 할 수 있다\n",
    "    - 클래스는 프로그래머가 아니지만 해결해야 할 문제가 속하는 영역에 종사하는 사람이라면 사용할 수 있고, 다른 클래스 또는 외부 요소와 독립적으로 디자인하여야 한다.\n",
    "\n",
    "\n",
    "* 인스턴스(instance) \n",
    "    - 클래스의 인스턴스/객체(실제로 메모리상에 할당된 것)이다. \n",
    "    - 객체는 자신 고유의 속성(attribute)을 가지며 클래스에서 정의한 행위(behavior)를 수행할 수 있다. \n",
    "    - 객체의 행위는 클래스에 정의된 행위에 대한 정의(메서드)를 공유함으로써 메모리를 경제적으로 사용한다.\n",
    "\n",
    "\n",
    "* 속성(attribute) \n",
    "    - 클래스/인스턴스 가 가지고 있는 속성(값)\n",
    "\n",
    "\n",
    "* 메서드(Method) \n",
    "    - 클래스/인스턴스 가 할 수 있는 행위(함수)"
   ]
  },
  {
   "cell_type": "markdown",
   "metadata": {},
   "source": [
    "\n",
    "\n",
    "| class / type | instance                 | attributes       | methods                                |\n",
    "| ------------ | ------------------------ | ---------------- | -------------------------------------- |\n",
    "| `str`        | `''`, `'hello'`, `'123'` |       _          | `.capitalize()`, `.join()`, `.split()` |\n",
    "| `list`       | `[]`, `['a', 'b']`       |       _          | `.append()`, `reverse()`, `sort()`     |\n",
    "| `dict`       | `{}`, `{'key': 'value'}` |       _          | `.keys()`, `.values()`, `.items().`    |\n",
    "| `int`        | `0`, `1`, `2`            | `.real`, `.imag` |                                        |"
   ]
  },
  {
   "cell_type": "code",
   "execution_count": null,
   "metadata": {},
   "outputs": [],
   "source": [
    "type(str.join())"
   ]
  },
  {
   "cell_type": "code",
   "execution_count": 60,
   "metadata": {},
   "outputs": [
    {
     "name": "stdout",
     "output_type": "stream",
     "text": [
      "<class 'complex'>\n"
     ]
    }
   ],
   "source": [
    "# 복소수를 하나 만들어보고, 타입을 출력해봅시다.\n",
    "img_number = 3 + 4j\n",
    "print(type(img_number))"
   ]
  },
  {
   "cell_type": "code",
   "execution_count": 61,
   "metadata": {},
   "outputs": [
    {
     "name": "stdout",
     "output_type": "stream",
     "text": [
      "[1, 2, 3]\n"
     ]
    }
   ],
   "source": [
    "numbers = [1, 2, 3]\n",
    "numbers.sort()\n",
    "print(numbers)"
   ]
  },
  {
   "cell_type": "code",
   "execution_count": 70,
   "metadata": {},
   "outputs": [
    {
     "name": "stdout",
     "output_type": "stream",
     "text": [
      "abc\n"
     ]
    }
   ],
   "source": [
    "words = 'a', 'b', 'c'\n",
    "print(''.join(words))\n",
    "\n",
    "    "
   ]
  },
  {
   "cell_type": "code",
   "execution_count": 72,
   "metadata": {},
   "outputs": [
    {
     "name": "stdout",
     "output_type": "stream",
     "text": [
      "['apple', 'orange', 'banana']\n"
     ]
    }
   ],
   "source": [
    "fruits = []\n",
    "fruits.append('apple')\n",
    "fruits.append('orange')\n",
    "fruits.append('banana')\n",
    "print(fruits)"
   ]
  },
  {
   "cell_type": "code",
   "execution_count": 81,
   "metadata": {},
   "outputs": [],
   "source": [
    "class Circle:\n",
    "    pi = 3.14\n",
    "    x = 0\n",
    "    y = 0\n",
    "    r = 0\n",
    "    # class 변수 4개 \n",
    "    \n",
    "    def __init__(self, r, x, y): #키워드 인자가 아님 / default 인자가 아님 \n",
    "        self.r = r\n",
    "        self.x = x\n",
    "        self.y = y\n",
    "        \n",
    "    def area(self):\n",
    "        return self.pi * self.r* self.r\n",
    "    \n",
    "    def circumference(self):\n",
    "        return 2 * self.pi * self.r\n",
    "    \n",
    "    def center(self):\n",
    "        return(self.x, self.y)\n",
    "    \n",
    "    \n"
   ]
  },
  {
   "cell_type": "code",
   "execution_count": 82,
   "metadata": {},
   "outputs": [
    {
     "name": "stdout",
     "output_type": "stream",
     "text": [
      "28.259999999999998\n",
      "18.84\n"
     ]
    }
   ],
   "source": [
    "circle = Circle(3, 2, 4) \n",
    "print(circle.area())\n",
    "print(circle.circumference())"
   ]
  },
  {
   "cell_type": "markdown",
   "metadata": {},
   "source": [
    "> 위에서 말한 속성(값)과 행위(메서드)를 명확히 구분해 봅시다\n",
    "\n",
    "* `complex` class의 객체들의 속성들을 확인해 봅시다."
   ]
  },
  {
   "cell_type": "code",
   "execution_count": null,
   "metadata": {},
   "outputs": [],
   "source": [
    "# 허수부랑 실수부를 함께 출력해봅시다. complex 객체의 실수 속성과 허수 속성이라고도 표현 가능합니다.\n",
    "print(img_number.real)\n",
    "print(img_number.imag)"
   ]
  },
  {
   "cell_type": "markdown",
   "metadata": {},
   "source": [
    "* `list` class의 객체들이 할 수 있는 행위(메서드)들을 확인해 봅시다."
   ]
  },
  {
   "cell_type": "code",
   "execution_count": null,
   "metadata": {},
   "outputs": [],
   "source": [
    "# 리스트를 하나 만들고 정렬해봅시다. list 객체의 메서드 실행이라고도 표현 가능합니다.\n",
    "# my_list 는 인스턴스 임"
   ]
  },
  {
   "cell_type": "code",
   "execution_count": null,
   "metadata": {},
   "outputs": [],
   "source": [
    "my_list = [3, 2, 1]\n",
    "print(type(my_list))"
   ]
  },
  {
   "cell_type": "code",
   "execution_count": null,
   "metadata": {},
   "outputs": [],
   "source": [
    "my_list.sort() # 리스트 입장에선 함수이고, my_list 입장에서는 메서드 \n",
    "print(my_list) # 함수"
   ]
  },
  {
   "cell_type": "code",
   "execution_count": null,
   "metadata": {},
   "outputs": [],
   "source": [
    "# list class 의 객체들이 할 수 있는 것들을 알아봅시다. (list 객체가 가지고 있는 모든 속성과 메서드를 보여줍니다.)\n"
   ]
  },
  {
   "cell_type": "code",
   "execution_count": null,
   "metadata": {},
   "outputs": [],
   "source": [
    "print(dir(list))"
   ]
  },
  {
   "cell_type": "markdown",
   "metadata": {},
   "source": [
    "## 실습 (without OOP)\n",
    "\n",
    "> 프로그래밍으로, 현재 나의 핸드폰을 코드로 옮겨봅시다.\n",
    "\n",
    "**정답은 없습니다. 자유롭게 구현해 봅시다.**\n",
    "\n",
    "* 핸드폰은 다음과 같은 속성(값)을 가지고 있습니다.\n",
    "    * 전원(`power`) - `bool`\n",
    "    * 내 전화번호(`number`) - `str`\n",
    "    * 전화번호부(`book`) - `dict`\n",
    "    * 모델명(`model`) - `str`\n",
    "\n",
    "* 핸드폰은 다음과 같은 다음과 같은 행동(함수)을 할 수 있습니다.\n",
    "    * 켜기(`on()`)\n",
    "    * 끄기(`off()`)\n",
    "    * 내 전화번호 설정하기(`set_my_number(number)`)\n",
    "    * 전화걸기(`call(number)`)\n",
    "    * 전화번호부에 번호 저장하기(`save(name, number)`)"
   ]
  },
  {
   "cell_type": "code",
   "execution_count": null,
   "metadata": {},
   "outputs": [],
   "source": [
    "power = False\n",
    "number = ''\n",
    "book = {}\n",
    "model = 'galaxy s10'"
   ]
  },
  {
   "cell_type": "code",
   "execution_count": null,
   "metadata": {},
   "outputs": [],
   "source": [
    "def on():\n",
    "    if not power: #true가 되도록\n",
    "        power = True\n",
    "        return True\n",
    "\n",
    "def off():\n",
    "    if power:\n",
    "        power = False\n",
    "        return power\n",
    "\n",
    "def set_my_number():\n",
    "    if power:\n",
    "        number = number\n",
    "\n",
    "def call(number):\n",
    "    if power:\n",
    "        if number in book:\n",
    "            return f'{book[number]}에게 전화중입니다.'\n",
    "        else:\n",
    "            return f'{number}에게 전화중입니다.'\n",
    "    \n",
    "def save(name, number):\n",
    "    if power:\n",
    "        book[name] = number\n",
    "        return book "
   ]
  },
  {
   "cell_type": "code",
   "execution_count": null,
   "metadata": {},
   "outputs": [],
   "source": [
    "# 핸드폰을 켜지 않고 이런저런 일을 해 봅시다.\n",
    "\n",
    "call('01012341234')\n",
    "power"
   ]
  },
  {
   "cell_type": "code",
   "execution_count": null,
   "metadata": {},
   "outputs": [],
   "source": [
    "# 핸드폰을 켜봅시다. \n",
    "on()"
   ]
  },
  {
   "cell_type": "code",
   "execution_count": null,
   "metadata": {},
   "outputs": [],
   "source": [
    "# local variable 'power' referenced before assignment\n",
    "# 지역변수인 파워가 할당되기 전에 참조되었네용 ?\n",
    "# 이 파워 누구쥬?\n",
    "\n",
    "# local\n",
    "# Enclosing\n",
    "# Gloval\n",
    "# Built-in\n",
    "\n",
    "# <ipython-input-17-cc6d02d51b57> in on()\n",
    "#       1 def on():\n",
    "# ----> 2     if not power: #true가 되도록   #할당도 되기전에 평가하네 ??  (파이썬 입장에선)\n",
    "#       3         power = True  #할당 #파이썬 실행은 위해서 아래에서 함/ 이시키 할당도 되기전에 평가혀 ? power가 뭔지몰러~\n",
    "                                # if not power: 이걸 주석 처리하면 error 가 안뜸 \n",
    "#       4         return True\n",
    "#       5 \n",
    "\n",
    "# UnboundLocalError: local variable 'power' referenced before assignment"
   ]
  },
  {
   "cell_type": "code",
   "execution_count": null,
   "metadata": {},
   "outputs": [],
   "source": [
    "# 켜지지 않습니다.. 어째서 그런 걸까요?\n",
    "\n",
    "# 직접 파워에 트루를 줘야함 \n",
    "\n",
    "\n",
    "# 정답은 namespace!\n",
    "\n",
    "#  power를 할당하기 전에 평가가 먼저 진행되었기 때문.\n",
    "# 함수 바깥에 있는 power(global 이라는 공간을 갖고있고)와 함수 안의 power(lexical)는 서로 다른 이름 공간에 존재합니다.\n",
    "# 즉, 서로가 서로를 모르는 상태라 가져올 수가 없음\n",
    "# 결국, on() / off() 를 사용할 수 없기 때문에 직접 power 에 값을 할당해야 합니다.\n",
    "\n",
    "power = True # 이렇게 해야 핸드폰이 켜졌네 라고 생각함. "
   ]
  },
  {
   "cell_type": "code",
   "execution_count": null,
   "metadata": {},
   "outputs": [],
   "source": [
    "# save 를 통해 번호를 저장해 봅시다."
   ]
  },
  {
   "cell_type": "code",
   "execution_count": null,
   "metadata": {},
   "outputs": [],
   "source": [
    "save('엄마', '01012312313')"
   ]
  },
  {
   "cell_type": "code",
   "execution_count": null,
   "metadata": {},
   "outputs": [],
   "source": [
    "# call 을 통해 전화를 걸어봅시다.\n",
    "call('엄마')"
   ]
  },
  {
   "cell_type": "markdown",
   "metadata": {},
   "source": [
    "### 문제점\n",
    "\n",
    "현재 코드로 구현한 핸드폰에서 잘못되었다고 느껴지거나 문제가 발생할 만한 요소들을 이야기 해 봅시다. \n",
    "\n",
    "기존의 방식대로 다른 사람의 핸드폰을 구현해야 한다면? 그 수가 엄청 많다면?? 새 파일(모듈)?"
   ]
  },
  {
   "cell_type": "markdown",
   "metadata": {},
   "source": [
    "# 클래스 및 인스턴스"
   ]
  },
  {
   "cell_type": "markdown",
   "metadata": {},
   "source": [
    "## 클래스 정의하기 (클래스 객체 생성하기)\n",
    "\n",
    "```python\n",
    "class ClassName:\n",
    "    \n",
    "```\n",
    "\n",
    "* 선언과 동시에 클래스 객체가 생성됨.\n",
    "\n",
    "* 또한, 선언된 공간은 지역 스코프로 사용된다.\n",
    "\n",
    "* 정의된 어트리뷰트 중 변수는 멤버 변수로 불리운다.\n",
    "\n",
    "* 정의된 함수(`def`)는 메서드로 불리운다."
   ]
  },
  {
   "cell_type": "code",
   "execution_count": null,
   "metadata": {},
   "outputs": [],
   "source": [
    "# def apple_banana\n",
    "# class AppleBanana \n",
    "# 쓰는 법이 다름 클래스와 def "
   ]
  },
  {
   "cell_type": "code",
   "execution_count": null,
   "metadata": {},
   "outputs": [],
   "source": [
    "# Class를 만들어봅시다."
   ]
  },
  {
   "cell_type": "code",
   "execution_count": null,
   "metadata": {},
   "outputs": [],
   "source": [
    "class TestClass:\n",
    "    \"\"\"\n",
    "    This is Test Class\n",
    "    hi there!\n",
    "    \"\"\"\n",
    "    name = 'TestClass' #멤버변수"
   ]
  },
  {
   "cell_type": "code",
   "execution_count": null,
   "metadata": {},
   "outputs": [],
   "source": [
    "print(type(TestClass))"
   ]
  },
  {
   "cell_type": "code",
   "execution_count": null,
   "metadata": {},
   "outputs": [],
   "source": [
    "# <class 'type'>\n",
    "# 위에꺼 이렇게 뜸 "
   ]
  },
  {
   "cell_type": "markdown",
   "metadata": {},
   "source": [
    "## 인스턴스 생성하기\n",
    "\n",
    "* 인스턴스 객체는 `ClassName()`을 호출함으로써 선언된다.\n",
    "\n",
    "* 인스턴스 객체와 클래스 객체는 서로 다른 이름 공간을 가지고 있다.\n",
    "\n",
    "* **인스턴스 => 클래스 => 전역 순으로 탐색을 한다.**\n",
    "\n",
    "```python\n",
    "# 인스턴스 = 클래스()\n",
    "puppy = Dog()\n",
    "```\n",
    "- 클래스는 특정 개념을 표현만 할뿐 사용하려면 인스턴스를 생성해야 한다."
   ]
  },
  {
   "cell_type": "code",
   "execution_count": null,
   "metadata": {},
   "outputs": [],
   "source": [
    "# TestClass 의 인스턴스를 만들어 봅시다.\n",
    "tc = TestClass()\n",
    "print(type(tc))\n",
    "print(tc.__doc__)"
   ]
  },
  {
   "cell_type": "code",
   "execution_count": null,
   "metadata": {},
   "outputs": [],
   "source": [
    "# namespace..?\n",
    "print(tc.name) #tc는 현재 name이 없습니다. 그래서 TestClass의 name 을 탐색하여 가져옵니다. \n",
    "tc.name = 'tc' #이제 tc의 name이 생겼습니다. \n",
    "print(tc.name) # 그래서 이제는 tc의 name을 가져옵니다. 중요한건 그렇다고 TestClass의 name이 바뀐 것은 아닙니다. "
   ]
  },
  {
   "cell_type": "code",
   "execution_count": null,
   "metadata": {},
   "outputs": [],
   "source": [
    "# Phone 클래스를 만들어봅시다."
   ]
  },
  {
   "cell_type": "markdown",
   "metadata": {},
   "source": [
    "* 선언시 `self`는 반드시 작성해주세요! 아래에서 다시 다룹니다."
   ]
  },
  {
   "cell_type": "code",
   "execution_count": null,
   "metadata": {},
   "outputs": [],
   "source": [
    "class Phone:\n",
    "    power = False\n",
    "    number = ''\n",
    "    book = {}\n",
    "    model = 'galaxy s10'\n",
    "# 이것들은 Phone의 멤버변수임 \n",
    "\n",
    "    def on(self):#메서드라고 부름\n",
    "        if not self.power:\n",
    "            self.power = True\n",
    "            print('----------')\n",
    "            print(f'{self.model}')\n",
    "            print('----------')\n",
    "            \n",
    "            \n",
    "    def off(self):\n",
    "        if self.power:\n",
    "            self.power = False\n",
    "            print('꺼짐')\n"
   ]
  },
  {
   "cell_type": "code",
   "execution_count": null,
   "metadata": {},
   "outputs": [],
   "source": [
    "p = Phone()\n",
    "print(p.model)"
   ]
  },
  {
   "cell_type": "code",
   "execution_count": null,
   "metadata": {},
   "outputs": [],
   "source": [
    "# 클래스 Phone 인스턴스 'my_phone' 를 만들어봅시다. "
   ]
  },
  {
   "cell_type": "code",
   "execution_count": null,
   "metadata": {},
   "outputs": [],
   "source": [
    "my_phone = Phone()"
   ]
  },
  {
   "cell_type": "code",
   "execution_count": null,
   "metadata": {},
   "outputs": [],
   "source": [
    "# 켜져 있나 확인해 봅시다."
   ]
  },
  {
   "cell_type": "code",
   "execution_count": null,
   "metadata": {},
   "outputs": [],
   "source": [
    "print(my_phone.power) # 마이폰이라는 인스턴스를 통해 켜져있나 확인"
   ]
  },
  {
   "cell_type": "code",
   "execution_count": null,
   "metadata": {},
   "outputs": [],
   "source": [
    "# 새 폰은 꺼져있으니 켜 봅시다."
   ]
  },
  {
   "cell_type": "code",
   "execution_count": null,
   "metadata": {},
   "outputs": [],
   "source": [
    "my_phone.on()"
   ]
  },
  {
   "cell_type": "code",
   "execution_count": null,
   "metadata": {},
   "outputs": [],
   "source": [
    "# 전원 상태를 확인해 봅시다."
   ]
  },
  {
   "cell_type": "code",
   "execution_count": null,
   "metadata": {},
   "outputs": [],
   "source": [
    "print(my_phone.power)"
   ]
  },
  {
   "cell_type": "code",
   "execution_count": null,
   "metadata": {},
   "outputs": [],
   "source": [
    "# 폰의 모델명을 확인해 봅시다."
   ]
  },
  {
   "cell_type": "code",
   "execution_count": null,
   "metadata": {},
   "outputs": [],
   "source": [
    "my_phone.model"
   ]
  },
  {
   "cell_type": "code",
   "execution_count": null,
   "metadata": {},
   "outputs": [],
   "source": [
    "# 모델을 바꿔 봅시다. 마이폰에 모델이라는 변수를 주고 아이폰으로 바꿨다고 생각해보쟈"
   ]
  },
  {
   "cell_type": "code",
   "execution_count": null,
   "metadata": {},
   "outputs": [],
   "source": [
    "my_phone.model = 'iphone'"
   ]
  },
  {
   "cell_type": "code",
   "execution_count": null,
   "metadata": {},
   "outputs": [],
   "source": [
    "# 폰 모델을 다시 확인해 봅시다."
   ]
  },
  {
   "cell_type": "code",
   "execution_count": null,
   "metadata": {},
   "outputs": [],
   "source": [
    "my_phone.model"
   ]
  },
  {
   "cell_type": "code",
   "execution_count": null,
   "metadata": {},
   "outputs": [],
   "source": [
    "# 폰을 껐다 켜 봅시다."
   ]
  },
  {
   "cell_type": "code",
   "execution_count": null,
   "metadata": {},
   "outputs": [],
   "source": [
    "my_phone.off()\n",
    "my_phone.on()"
   ]
  },
  {
   "cell_type": "code",
   "execution_count": null,
   "metadata": {},
   "outputs": [],
   "source": [
    "# my_phone 이 Phone 클래스의 인스턴스인지 확인해 봅시다."
   ]
  },
  {
   "cell_type": "code",
   "execution_count": null,
   "metadata": {},
   "outputs": [],
   "source": [
    "isinstance(my_phone, Phone)"
   ]
  },
  {
   "cell_type": "code",
   "execution_count": null,
   "metadata": {},
   "outputs": [],
   "source": [
    "# 같은 질문이지만, 다르게 물어 봅시다."
   ]
  },
  {
   "cell_type": "code",
   "execution_count": null,
   "metadata": {},
   "outputs": [],
   "source": [
    "type(my_phone) == Phone\n",
    "\n",
    "# 이걸 하면 마이폰이 속한 클래스가 나오는 것임 "
   ]
  },
  {
   "cell_type": "code",
   "execution_count": null,
   "metadata": {},
   "outputs": [],
   "source": [
    "# type을 확인해봅시다."
   ]
  },
  {
   "cell_type": "code",
   "execution_count": null,
   "metadata": {},
   "outputs": [],
   "source": [
    "# my_phone 을 출력해 봅시다."
   ]
  },
  {
   "cell_type": "code",
   "execution_count": null,
   "metadata": {},
   "outputs": [],
   "source": [
    "print(my_phone)"
   ]
  },
  {
   "cell_type": "markdown",
   "metadata": {},
   "source": [
    "- python 출력의 비밀 `__str__` 과 `__repr__`\n",
    "    - 특정 객체를 print() 할 때 보이는 값과 그냥 객체 자체를 보여주는 값도 사실 모두 우리가 바꿀 수 있다. "
   ]
  },
  {
   "cell_type": "code",
   "execution_count": null,
   "metadata": {},
   "outputs": [],
   "source": [
    "class Phone:\n",
    "    power = False\n",
    "    number = ''\n",
    "    book = {}\n",
    "    model = 'galaxy s10'\n",
    "# 이것들은 Phone의 멤버변수임 \n",
    "\n",
    "    def on(self):#메서드라고 부름\n",
    "        if not self.power:\n",
    "            self.power = True\n",
    "            print('----------')\n",
    "            print(f'{self.model}')\n",
    "            print('----------')\n",
    "            \n",
    "            \n",
    "    def off(self):\n",
    "        if self.power:\n",
    "            self.power = False\n",
    "            print('꺼짐')\n",
    "\n",
    "            \n",
    "    def __str__(self):\n",
    "        return 'print 안에 넣으면 이렇게 나오고'\n",
    "    \n",
    "    def __repr__(self):\n",
    "        return '그냥 객체만 놔두면 이게 나온다.'"
   ]
  },
  {
   "cell_type": "code",
   "execution_count": null,
   "metadata": {},
   "outputs": [],
   "source": [
    "p = Phone()\n",
    "print(p)\n",
    "p"
   ]
  },
  {
   "cell_type": "code",
   "execution_count": null,
   "metadata": {},
   "outputs": [],
   "source": [
    "# my_phone 을 다르게 볼까요?\n",
    "\n"
   ]
  },
  {
   "cell_type": "markdown",
   "metadata": {},
   "source": [
    "### 인스턴스와 객체\n",
    "- 인스턴스와 객체는 같은 것을 의미한다. \n",
    "- 보통 객체만 지칭할 때는 단순히 객체(object)라고 부름. \n",
    "- 하지만 클래스와 연관지어서 말할 때는 인스턴스(instance)라고 부름.\n",
    "\n",
    "```python\n",
    "a = int(10)\n",
    "b = int(20)\n",
    "# a, b 는 객체\n",
    "# a, b 는 int 클래스의 인스턴스\n",
    "```"
   ]
  },
  {
   "cell_type": "markdown",
   "metadata": {},
   "source": [
    "## MyList 만들기\n",
    "\n",
    "> 이제 배운 것을 활용하여 나만의 리스트 객체를 만들 수 있습니다. \n",
    ">\n",
    "> `class MyList:`\n",
    ">\n",
    "\n",
    "```\n",
    "* 멤버 변수(클래스 변수)\n",
    "data : 비어 있는 리스트\n",
    "\n",
    "* 메서드 \n",
    "append() : 값을 받아 data 에 추가합니다. 리턴 값은 없습니다.\n",
    "pop() : 마지막에 있는 값을 삭제하고, 해당 값을 리턴합니다.\n",
    "reverse() : 제자리에서 뒤집고 리턴 값은 없습니다.\n",
    "count() : data 리스트 요소의 개수를 리턴합니다.\n",
    "clear() : 값을 모두 삭제합니다. 리턴값은 없습니다.\n",
    "\n",
    "__repr__ : ex) '내 리스트에는 [1, 2, 3] 이 담겨있다.'\n",
    "```"
   ]
  },
  {
   "cell_type": "code",
   "execution_count": null,
   "metadata": {},
   "outputs": [],
   "source": [
    "# 아래에 코드를 작성해주세요."
   ]
  },
  {
   "cell_type": "code",
   "execution_count": null,
   "metadata": {},
   "outputs": [],
   "source": [
    "class MyList:\n",
    "    data = []\n",
    "    def append(self, element):\n",
    "        self.data += [element]\n",
    "        \n",
    "    def pop(self, element):\n",
    "        self.data = [element[:-1]] \n",
    "        return\n",
    "    \n",
    "    def reverse(self, element):\n",
    "        self.data = [element[::-1]]\n",
    "        \n",
    "    def count(self, element):\n",
    "        self.count = [element]\n",
    "        return\n",
    "        \n",
    "    def clear(self, element):\n",
    "        self.clear = [element]\n",
    "        "
   ]
  },
  {
   "cell_type": "code",
   "execution_count": null,
   "metadata": {},
   "outputs": [],
   "source": [
    "class MyList:\n",
    "    data = []\n",
    "    def append(self, element):\n",
    "        self.data += [element]\n",
    "        \n",
    "    def pop(self):\n",
    "        #리스트의 마지막 값을 찾아야함 \n",
    "        p = self.data[-1]\n",
    "        self.data = self.data[:-1]\n",
    "        return p\n",
    "    \n",
    "    def reverse(self):\n",
    "        self.data = self.data[::-1]\n",
    "        \n",
    "    \n",
    "    def count(self):\n",
    "        return len(self.data)\n",
    "    \n",
    "    def clear(self):\n",
    "        self.data = []\n",
    "    \n",
    "    \n",
    "    def __repr__(self):\n",
    "        return f'내 리스트에는 {self.data} 이 담겨있다.'\n",
    "    \n",
    "    \n",
    "    \n",
    "    \n",
    "    \n",
    "    \n",
    "    \n",
    "    \n",
    "    "
   ]
  },
  {
   "cell_type": "code",
   "execution_count": null,
   "metadata": {},
   "outputs": [],
   "source": [
    "# 확인해 봅시다. 각 해당 셀을 두번 이상 실행하면 이상하게 동작합니다. Python Tutor 에서 확인해 봅시다.\n",
    "# (모든 객체의 data 가 같은 리스트를 참조합니다.)\n"
   ]
  },
  {
   "cell_type": "code",
   "execution_count": null,
   "metadata": {},
   "outputs": [],
   "source": [
    "ml = MyList()\n",
    "ml"
   ]
  },
  {
   "cell_type": "code",
   "execution_count": null,
   "metadata": {},
   "outputs": [],
   "source": [
    "ml.append(1)\n"
   ]
  },
  {
   "cell_type": "code",
   "execution_count": null,
   "metadata": {},
   "outputs": [],
   "source": [
    "ml.append(2)\n"
   ]
  },
  {
   "cell_type": "code",
   "execution_count": null,
   "metadata": {},
   "outputs": [],
   "source": [
    "ml.append(3)"
   ]
  },
  {
   "cell_type": "code",
   "execution_count": null,
   "metadata": {},
   "outputs": [],
   "source": [
    "ml"
   ]
  },
  {
   "cell_type": "code",
   "execution_count": null,
   "metadata": {},
   "outputs": [],
   "source": [
    "ml.reverse()\n",
    "ml"
   ]
  },
  {
   "cell_type": "code",
   "execution_count": null,
   "metadata": {},
   "outputs": [],
   "source": [
    "ml.count()\n"
   ]
  },
  {
   "cell_type": "code",
   "execution_count": null,
   "metadata": {},
   "outputs": [],
   "source": [
    "ml.clear()\n",
    "ml"
   ]
  },
  {
   "cell_type": "markdown",
   "metadata": {},
   "source": [
    "## 용어 정리\n",
    "\n",
    "```python\n",
    "class Person:                     #=> 클래스 정의(선언, 클래스 객체 생성)\n",
    "    name = 'unknown'              #=> 멤버 변수(data attribute)\n",
    "    \n",
    "    def greeting(self):           #=> 멤버 메서드\n",
    "        return f'{self.name}' \n",
    "```\n",
    "  \n",
    "  \n",
    "    \n",
    "```python\n",
    "richard = Person()      # 인스턴스 객체 생성\n",
    "tim = Person()          # 인스턴스 객체 생성\n",
    "tim.name                # 멤버 변수(클래스 변수) 호출\n",
    "tim.greeting()          # 메서드(인스턴스 메서드) 호출\n",
    "```"
   ]
  },
  {
   "cell_type": "markdown",
   "metadata": {},
   "source": [
    "### 클래스와 인스턴스 변수\n",
    "\n",
    "- 클래스 변수\n",
    "    - 그 클래스의 모든 인스턴스에서 공유되는 어트리뷰트와 메서드를 위한 것\n",
    "    - 모든 인스턴스가 공유\n",
    "    \n",
    "    \n",
    "- 인스턴스 변수\n",
    "    - 인스턴스별 데이터를 위한 것\n",
    "    - 각 인스턴스들의 고유 변수\n",
    "    \n",
    "    \n",
    "```python\n",
    "class Dog:\n",
    "\n",
    "    kind = 'tori'          # 클래스 변수 (모든 인스턴스가 공유)\n",
    "\n",
    "    def __init__(self, name):\n",
    "        self.name = name    # 인스턴스 변수 (각 인스턴스들의 고유 변수)\n",
    "```"
   ]
  },
  {
   "cell_type": "code",
   "execution_count": null,
   "metadata": {},
   "outputs": [],
   "source": [
    "# Person을 만들어봅시다.\n",
    "class Person:\n",
    "    name = 'unknown'\n",
    "    \n",
    "    def greeting(self):\n",
    "        return f'hi {self.name}'"
   ]
  },
  {
   "cell_type": "code",
   "execution_count": null,
   "metadata": {},
   "outputs": [],
   "source": [
    "p1 = Person()\n",
    "p1.greeting()"
   ]
  },
  {
   "cell_type": "code",
   "execution_count": null,
   "metadata": {},
   "outputs": [],
   "source": [
    "# 클래스와 인스턴스간의 관계를 확인해 봅시다.\n",
    "\n",
    "isinstance(p1, Person)"
   ]
  },
  {
   "cell_type": "markdown",
   "metadata": {},
   "source": [
    "##  `self` : 인스턴스 객체 자기자신\n",
    "\n",
    "* C++ 혹은 자바에서의 this 키워드와 동일함. \n",
    "\n",
    "* 특별한 상황을 제외하고는 **무조건 메서드에서 `self`를 첫번째 인자로 설정한다.**\n",
    "\n",
    "* 메서드는 인스턴스 객체가 함수의 첫번째 인자로 전달되도록 되어있다."
   ]
  },
  {
   "cell_type": "code",
   "execution_count": null,
   "metadata": {},
   "outputs": [],
   "source": [
    "# p1 의 이름을 자기 이름으로 바꾸고 다시 인사해 봅시다."
   ]
  },
  {
   "cell_type": "code",
   "execution_count": null,
   "metadata": {},
   "outputs": [],
   "source": [
    "p1.name = 'Leem so hee'\n",
    "p1.greeting()"
   ]
  },
  {
   "cell_type": "code",
   "execution_count": null,
   "metadata": {},
   "outputs": [],
   "source": [
    "# 아까부터 궁금했던, 메서드 1번 인자 self 는 어디에 있는걸까요?\n",
    "# p1.greeting() 이것을 파이썬이 실제로 구동시키는 방법 \n",
    "Person.greeting(p1) \n",
    "\n",
    "# 위와 같은 일을 하는 코드입니다. (self 를 넣는 이유 )"
   ]
  },
  {
   "cell_type": "markdown",
   "metadata": {},
   "source": [
    "## 클래스-인스턴스간의 이름공간\n",
    "\n",
    "* 클래스를 정의하면, 클래스 객체가 생성되고 해당되는 이름 공간이 생성된다. \n",
    "\n",
    "* 인스턴스를 만들게 되면, 인스턴스 객체가 생성되고 해당되는 이름 공간이 생성된다. \n",
    "\n",
    "* 인스턴스의 어트리뷰트가 변경되면, 변경된 데이터를 인스턴스 객체 이름 공간에 저장한다.\n",
    "\n",
    "* 즉, 인스턴스에서 특정한 어트리뷰트에 접근하게 되면 인스턴스 => 클래스 순으로 탐색을 한다."
   ]
  },
  {
   "cell_type": "code",
   "execution_count": null,
   "metadata": {},
   "outputs": [],
   "source": [
    "# 클래스 선언코드에서 메서드를 정의할 때, 왜 self 를 꼭 써준걸까요?\n",
    "class Person:\n",
    "    name = 'unknown'\n",
    "    \n",
    "    def greeting(self):\n",
    "        return f'hi {self.name}'\n",
    "p2 = Person()\n",
    "p2.greeting()\n",
    "    "
   ]
  },
  {
   "cell_type": "code",
   "execution_count": null,
   "metadata": {},
   "outputs": [],
   "source": [
    "class Person:\n",
    "    name = 'unknown'\n",
    "    \n",
    "    def greeting(self):\n",
    "        return f'hi {name}'\n",
    "p2 = Person()\n",
    "p2.greeting()\n",
    "\n",
    "# 동작하지 않음. 생성된 객체는 method scope 안에서 name이 뭔지모릅니다. \n",
    "    "
   ]
  },
  {
   "cell_type": "code",
   "execution_count": null,
   "metadata": {},
   "outputs": [],
   "source": [
    "# 아래에서 확인해 봅시다."
   ]
  },
  {
   "cell_type": "code",
   "execution_count": null,
   "metadata": {},
   "outputs": [],
   "source": [
    "# 함수 scope 를 다시한번 짚고 넘어갑시다.\n",
    "p2.name\n",
    "# 이것은 출력됩니다. instance => class 순으로 찾다가 class 에서 찾은 name 입니다. "
   ]
  },
  {
   "cell_type": "code",
   "execution_count": null,
   "metadata": {},
   "outputs": [],
   "source": [
    "# 다시, 클래스 선언코드에서 메서드를 정의할 때, 왜 self 를 꼭 써준걸까요?"
   ]
  },
  {
   "cell_type": "code",
   "execution_count": null,
   "metadata": {},
   "outputs": [],
   "source": [
    "class Person:\n",
    "    name = 'unknown'\n",
    "    \n",
    "    def greeting(self):\n",
    "        return f'hi {self.name}'\n",
    "    \n",
    "    # 이번에는 '내 이름' 을 찾아봅니다. "
   ]
  },
  {
   "cell_type": "code",
   "execution_count": null,
   "metadata": {},
   "outputs": [],
   "source": [
    "# 아래에서 확인해 봅시다."
   ]
  },
  {
   "cell_type": "code",
   "execution_count": null,
   "metadata": {},
   "outputs": [],
   "source": [
    "p2 = Person()\n",
    "p2.greeting()\n",
    "# 현재 출력되고 있는 것이 p2의 name 처럼 보입니다.\n",
    "# 하지만 p2는 name이 없습니다. 즉, p2.name 처럼 내 안에 name 을 찾고 없으니 class 로 가서 name을 찾은 겁니다. "
   ]
  },
  {
   "cell_type": "code",
   "execution_count": null,
   "metadata": {},
   "outputs": [],
   "source": [
    "# 아래에서 p2 객체에게 이름을 지어 줍시다."
   ]
  },
  {
   "cell_type": "code",
   "execution_count": null,
   "metadata": {},
   "outputs": [],
   "source": [
    "p2.name = 'Sujee'\n",
    "p2.name"
   ]
  },
  {
   "cell_type": "code",
   "execution_count": null,
   "metadata": {},
   "outputs": [],
   "source": [
    "# python tutor 를 통해 확인해 봅시다.\n",
    "IFrame('http://bit.do/oop_instro_00', width='100%', height='500px')"
   ]
  },
  {
   "cell_type": "markdown",
   "metadata": {},
   "source": [
    "## 생성자 / 소멸자\n",
    "\n",
    "* 생성자\n",
    "    - 인스턴스 객체가 생성될 때 호출되는 함수.\n",
    "    \n",
    "    \n",
    "* 소멸자\n",
    "    - 인스턴스 객체가 소멸(파괴)되기 직전에 호출되는 함수.\n",
    "\n",
    "\n",
    "```python\n",
    "def __init__(self):\n",
    "    print('생성될 때 자동으로 호출되는 메서드입니다.')\n",
    "    \n",
    "def __del__(self):\n",
    "    print('소멸될 때 자동으로 호출되는 메서드입니다.')\n",
    "```\n",
    "\n",
    "```\n",
    "__someting__\n",
    "```\n",
    "\n",
    "위의 형식처럼 양쪽에 언더스코어가 있는 메서드를 `스페셜 메서드` 혹은 `매직 메서드`라고 불립니다."
   ]
  },
  {
   "cell_type": "code",
   "execution_count": null,
   "metadata": {},
   "outputs": [],
   "source": [
    "# 생성자와 소멸자를 만들어봅시다.\n",
    "class Person:\n",
    "    \n",
    "    def __init__(self):\n",
    "        print('응애!')\n",
    "        \n",
    "        \n",
    "    def __del__(self):\n",
    "        print('파국이다!!')"
   ]
  },
  {
   "cell_type": "code",
   "execution_count": null,
   "metadata": {},
   "outputs": [],
   "source": [
    "# 생성해 봅시다.\n",
    "p3 = Person()"
   ]
  },
  {
   "cell_type": "code",
   "execution_count": null,
   "metadata": {},
   "outputs": [],
   "source": [
    "# 소멸시켜 봅시다.\n",
    "del p3"
   ]
  },
  {
   "cell_type": "code",
   "execution_count": null,
   "metadata": {},
   "outputs": [],
   "source": [
    "# 생성자 역시 메서드(함수)기 때문에 추가인자를 받을 수 있습니다."
   ]
  },
  {
   "cell_type": "code",
   "execution_count": null,
   "metadata": {},
   "outputs": [],
   "source": [
    "class Person:\n",
    "    \n",
    "    def __init__(self, name):\n",
    "        self.name = name\n",
    "        print(f'응애! 나는 {self.name}!')\n",
    "        \n",
    "    def __del__(self):\n",
    "        print(f'{self.name} 은 파국이다!!')"
   ]
  },
  {
   "cell_type": "code",
   "execution_count": null,
   "metadata": {},
   "outputs": [],
   "source": [
    "# 생성과 동시에 인스턴스 변수에 값을 할당합니다.\n",
    "me = Person('수지바보')\n",
    "print(me.name)\n",
    "\n",
    "print('---------')\n",
    "\n",
    "\n",
    "me = Person('수지멍멍')\n",
    "print(me.name)"
   ]
  },
  {
   "cell_type": "markdown",
   "metadata": {},
   "source": [
    "## 실습 (종합)\n",
    "\n",
    "> 사실 이전에 작성한 Mylist는 완벽하지 않았습니다. \n",
    ">\n",
    "> 한번 제대로 된 자료구조를 만들어보겠습니다. \n",
    ">\n",
    "> `Stack` 클래스를 간략하게 구현해봅시다.\n",
    "\n",
    "> [Stack](https://ko.wikipedia.org/wiki/%EC%8A%A4%ED%83%9D) : 스택은 LIFO(Last in First Out)으로 구조화된 자료구조를 뜻합니다.\n",
    "\n",
    "1. `empty()`: 스택이 비었다면 True을 주고, 그렇지 않다면 False가 된다.\n",
    "\n",
    "2. `top()`: 스택의 가장 마지막 데이터를 넘겨준다. 스택이 비었다면 None을 리턴한다.\n",
    "\n",
    "3. `pop()`: 스택의 가장 마지막 데이터의 값을 넘겨주고, 해당 데이터를 삭제한다. 스택이 비었다면 None을 리턴한다.\n",
    "\n",
    "4. `push()`: 스택의 가장 마지막 데이터 뒤에 값을 추가한다. 리턴 값은 없다.\n",
    "\n",
    "**다 작성했다면 __repr__ 을 통해 예쁘게 출력까지 해봅시다.**"
   ]
  },
  {
   "cell_type": "code",
   "execution_count": null,
   "metadata": {},
   "outputs": [],
   "source": [
    "# 여기에 코드를 작성해주세요.\n",
    "class Stack:\n",
    "    def __init__(self):\n",
    "        self.items = []\n",
    "      \n",
    "    \n",
    "    def empty(self):\n",
    "        if self.items:\n",
    "            return False\n",
    "        else:\n",
    "            return True\n",
    "    \n",
    "    def top(self):\n",
    "        if not self.items:\n",
    "            return None\n",
    "        else:\n",
    "            p = self.items[-1]\n",
    "            return p\n",
    "      \n",
    "    \n",
    "    def pop(self):\n",
    "        if not self.items:\n",
    "            return None\n",
    "        else:\n",
    "            p = self.items[-1]\n",
    "            self.items = self.items[:-1]       \n",
    "        \n",
    "    def push(self, element):\n",
    "        self.items += [element]\n",
    "    \n",
    "    \n",
    "    def __repr__(self):\n",
    "        return 'ㅅㄱ'"
   ]
  },
  {
   "cell_type": "code",
   "execution_count": null,
   "metadata": {},
   "outputs": [],
   "source": [
    "class MyList:\n",
    "    data = []\n",
    "    def append(self, element):\n",
    "        self.data += [element]\n",
    "        \n",
    "    def pop(self):\n",
    "        #리스트의 마지막 값을 찾아야함 \n",
    "        p = self.data[-1]\n",
    "        self.data = self.data[:-1]\n",
    "        return p\n",
    "    \n",
    "    def reverse(self):\n",
    "        self.data = self.data[::-1]\n",
    "        \n",
    "    \n",
    "    def count(self):\n",
    "        return len(self.data)\n",
    "    \n",
    "    def clear(self):\n",
    "        self.data = []\n",
    "    \n",
    "    \n",
    "    def __repr__(self):\n",
    "        return f'내 리스트에는 {self.data} 이 담겨있다.'\n",
    "    "
   ]
  },
  {
   "cell_type": "code",
   "execution_count": null,
   "metadata": {},
   "outputs": [],
   "source": [
    "class Stack:\n",
    "    def __int__(self):\n",
    "        self.items = []\n",
    "   \n",
    "\n",
    "    def empty(self):\n",
    "        if not self.itmes:\n",
    "            return True\n",
    "        else:\n",
    "            return None\n",
    "    \n",
    "    \n",
    "    def top(self):\n",
    "        if not len(self.itmes):\n",
    "            return self.itmes[:-1]\n",
    "        else:\n",
    "            return None\n",
    "    \n",
    "    \n",
    "    def pop(self):\n",
    "        if \n",
    "        p = self.data[-1]\n",
    "        self.data = self.data[:-1]\n",
    "        return p\n",
    "        else:\n",
    "            return None\n",
    "    \n",
    "    \n",
    "    def push(self, data):\n",
    "        new_node += Node(data)\n",
    "        \n",
    "        return None\n",
    "    \n",
    "    \n",
    "    def __repr__(self):\n",
    "        \n",
    "        "
   ]
  },
  {
   "cell_type": "code",
   "execution_count": 19,
   "metadata": {},
   "outputs": [],
   "source": [
    "class Stack:\n",
    "    def __init__(self):\n",
    "        self.items = []\n",
    "        \n",
    "\n",
    "    def empty(self):\n",
    "        return not bool(self.items)\n",
    "        \n",
    "        \n",
    "    def push(self,elem):\n",
    "        self.items.append(elem)\n",
    "        \n",
    "        \n",
    "    def pop(self):\n",
    "        if not self.empty(): # 비어 있다면 return이 없도록\n",
    "            return self.items.pop()\n",
    "        \n",
    "        \n",
    "    def top(self):\n",
    "        if self.itmes:\n",
    "            return self.items[-1]\n",
    "        \n",
    "        \n",
    "    def __repr__(self):\n",
    "        return f'{self}입니다.'"
   ]
  },
  {
   "cell_type": "code",
   "execution_count": 20,
   "metadata": {},
   "outputs": [],
   "source": [
    "st = Stack()"
   ]
  },
  {
   "cell_type": "code",
   "execution_count": 21,
   "metadata": {},
   "outputs": [
    {
     "data": {
      "text/plain": [
       "[]"
      ]
     },
     "execution_count": 21,
     "metadata": {},
     "output_type": "execute_result"
    }
   ],
   "source": [
    "st.items"
   ]
  },
  {
   "cell_type": "code",
   "execution_count": 22,
   "metadata": {},
   "outputs": [
    {
     "data": {
      "text/plain": [
       "True"
      ]
     },
     "execution_count": 22,
     "metadata": {},
     "output_type": "execute_result"
    }
   ],
   "source": [
    "st.empty()"
   ]
  },
  {
   "cell_type": "code",
   "execution_count": 23,
   "metadata": {},
   "outputs": [
    {
     "ename": "AttributeError",
     "evalue": "'Stack' object has no attribute 'itmes'",
     "output_type": "error",
     "traceback": [
      "\u001b[1;31m---------------------------------------------------------------------------\u001b[0m",
      "\u001b[1;31mAttributeError\u001b[0m                            Traceback (most recent call last)",
      "\u001b[1;32m<ipython-input-23-7d7096df773b>\u001b[0m in \u001b[0;36m<module>\u001b[1;34m\u001b[0m\n\u001b[1;32m----> 1\u001b[1;33m \u001b[0mprint\u001b[0m\u001b[1;33m(\u001b[0m\u001b[0mst\u001b[0m\u001b[1;33m.\u001b[0m\u001b[0mtop\u001b[0m\u001b[1;33m(\u001b[0m\u001b[1;33m)\u001b[0m\u001b[1;33m)\u001b[0m\u001b[1;33m\u001b[0m\u001b[1;33m\u001b[0m\u001b[0m\n\u001b[0m",
      "\u001b[1;32m<ipython-input-19-62f27851356d>\u001b[0m in \u001b[0;36mtop\u001b[1;34m(self)\u001b[0m\n\u001b[0;32m     18\u001b[0m \u001b[1;33m\u001b[0m\u001b[0m\n\u001b[0;32m     19\u001b[0m     \u001b[1;32mdef\u001b[0m \u001b[0mtop\u001b[0m\u001b[1;33m(\u001b[0m\u001b[0mself\u001b[0m\u001b[1;33m)\u001b[0m\u001b[1;33m:\u001b[0m\u001b[1;33m\u001b[0m\u001b[1;33m\u001b[0m\u001b[0m\n\u001b[1;32m---> 20\u001b[1;33m         \u001b[1;32mif\u001b[0m \u001b[0mself\u001b[0m\u001b[1;33m.\u001b[0m\u001b[0mitmes\u001b[0m\u001b[1;33m:\u001b[0m\u001b[1;33m\u001b[0m\u001b[1;33m\u001b[0m\u001b[0m\n\u001b[0m\u001b[0;32m     21\u001b[0m             \u001b[1;32mreturn\u001b[0m \u001b[0mself\u001b[0m\u001b[1;33m.\u001b[0m\u001b[0mitems\u001b[0m\u001b[1;33m[\u001b[0m\u001b[1;33m-\u001b[0m\u001b[1;36m1\u001b[0m\u001b[1;33m]\u001b[0m\u001b[1;33m\u001b[0m\u001b[1;33m\u001b[0m\u001b[0m\n\u001b[0;32m     22\u001b[0m \u001b[1;33m\u001b[0m\u001b[0m\n",
      "\u001b[1;31mAttributeError\u001b[0m: 'Stack' object has no attribute 'itmes'"
     ]
    }
   ],
   "source": [
    "print(st.top())"
   ]
  },
  {
   "cell_type": "code",
   "execution_count": 32,
   "metadata": {},
   "outputs": [],
   "source": [
    "st.push(1)\n",
    "st.push(2)\n",
    "st.push(3)\n"
   ]
  },
  {
   "cell_type": "code",
   "execution_count": 33,
   "metadata": {},
   "outputs": [
    {
     "data": {
      "text/plain": [
       "False"
      ]
     },
     "execution_count": 33,
     "metadata": {},
     "output_type": "execute_result"
    }
   ],
   "source": [
    "st.empty()"
   ]
  },
  {
   "cell_type": "code",
   "execution_count": 34,
   "metadata": {},
   "outputs": [
    {
     "data": {
      "text/plain": [
       "3"
      ]
     },
     "execution_count": 34,
     "metadata": {},
     "output_type": "execute_result"
    }
   ],
   "source": [
    "st.pop()"
   ]
  },
  {
   "cell_type": "code",
   "execution_count": 35,
   "metadata": {},
   "outputs": [
    {
     "ename": "TypeError",
     "evalue": "'list' object is not callable",
     "output_type": "error",
     "traceback": [
      "\u001b[1;31m---------------------------------------------------------------------------\u001b[0m",
      "\u001b[1;31mTypeError\u001b[0m                                 Traceback (most recent call last)",
      "\u001b[1;32m<ipython-input-35-66aae575deef>\u001b[0m in \u001b[0;36m<module>\u001b[1;34m\u001b[0m\n\u001b[1;32m----> 1\u001b[1;33m \u001b[0mst\u001b[0m\u001b[1;33m.\u001b[0m\u001b[0mitems\u001b[0m\u001b[1;33m(\u001b[0m\u001b[1;33m)\u001b[0m\u001b[1;33m\u001b[0m\u001b[1;33m\u001b[0m\u001b[0m\n\u001b[0m",
      "\u001b[1;31mTypeError\u001b[0m: 'list' object is not callable"
     ]
    }
   ],
   "source": [
    "st.items()"
   ]
  },
  {
   "cell_type": "code",
   "execution_count": 28,
   "metadata": {},
   "outputs": [
    {
     "ename": "RecursionError",
     "evalue": "maximum recursion depth exceeded",
     "output_type": "error",
     "traceback": [
      "\u001b[1;31m---------------------------------------------------------------------------\u001b[0m",
      "\u001b[1;31mRecursionError\u001b[0m                            Traceback (most recent call last)",
      "\u001b[1;32mc:\\users\\student\\appdata\\local\\programs\\python\\python37\\lib\\site-packages\\IPython\\core\\formatters.py\u001b[0m in \u001b[0;36m__call__\u001b[1;34m(self, obj)\u001b[0m\n\u001b[0;32m    700\u001b[0m                 \u001b[0mtype_pprinters\u001b[0m\u001b[1;33m=\u001b[0m\u001b[0mself\u001b[0m\u001b[1;33m.\u001b[0m\u001b[0mtype_printers\u001b[0m\u001b[1;33m,\u001b[0m\u001b[1;33m\u001b[0m\u001b[1;33m\u001b[0m\u001b[0m\n\u001b[0;32m    701\u001b[0m                 deferred_pprinters=self.deferred_printers)\n\u001b[1;32m--> 702\u001b[1;33m             \u001b[0mprinter\u001b[0m\u001b[1;33m.\u001b[0m\u001b[0mpretty\u001b[0m\u001b[1;33m(\u001b[0m\u001b[0mobj\u001b[0m\u001b[1;33m)\u001b[0m\u001b[1;33m\u001b[0m\u001b[1;33m\u001b[0m\u001b[0m\n\u001b[0m\u001b[0;32m    703\u001b[0m             \u001b[0mprinter\u001b[0m\u001b[1;33m.\u001b[0m\u001b[0mflush\u001b[0m\u001b[1;33m(\u001b[0m\u001b[1;33m)\u001b[0m\u001b[1;33m\u001b[0m\u001b[1;33m\u001b[0m\u001b[0m\n\u001b[0;32m    704\u001b[0m             \u001b[1;32mreturn\u001b[0m \u001b[0mstream\u001b[0m\u001b[1;33m.\u001b[0m\u001b[0mgetvalue\u001b[0m\u001b[1;33m(\u001b[0m\u001b[1;33m)\u001b[0m\u001b[1;33m\u001b[0m\u001b[1;33m\u001b[0m\u001b[0m\n",
      "\u001b[1;32mc:\\users\\student\\appdata\\local\\programs\\python\\python37\\lib\\site-packages\\IPython\\lib\\pretty.py\u001b[0m in \u001b[0;36mpretty\u001b[1;34m(self, obj)\u001b[0m\n\u001b[0;32m    400\u001b[0m                         \u001b[1;32mif\u001b[0m \u001b[0mcls\u001b[0m \u001b[1;32mis\u001b[0m \u001b[1;32mnot\u001b[0m \u001b[0mobject\u001b[0m\u001b[0;31m \u001b[0m\u001b[0;31m\\\u001b[0m\u001b[1;33m\u001b[0m\u001b[1;33m\u001b[0m\u001b[0m\n\u001b[0;32m    401\u001b[0m                                 \u001b[1;32mand\u001b[0m \u001b[0mcallable\u001b[0m\u001b[1;33m(\u001b[0m\u001b[0mcls\u001b[0m\u001b[1;33m.\u001b[0m\u001b[0m__dict__\u001b[0m\u001b[1;33m.\u001b[0m\u001b[0mget\u001b[0m\u001b[1;33m(\u001b[0m\u001b[1;34m'__repr__'\u001b[0m\u001b[1;33m)\u001b[0m\u001b[1;33m)\u001b[0m\u001b[1;33m:\u001b[0m\u001b[1;33m\u001b[0m\u001b[1;33m\u001b[0m\u001b[0m\n\u001b[1;32m--> 402\u001b[1;33m                             \u001b[1;32mreturn\u001b[0m \u001b[0m_repr_pprint\u001b[0m\u001b[1;33m(\u001b[0m\u001b[0mobj\u001b[0m\u001b[1;33m,\u001b[0m \u001b[0mself\u001b[0m\u001b[1;33m,\u001b[0m \u001b[0mcycle\u001b[0m\u001b[1;33m)\u001b[0m\u001b[1;33m\u001b[0m\u001b[1;33m\u001b[0m\u001b[0m\n\u001b[0m\u001b[0;32m    403\u001b[0m \u001b[1;33m\u001b[0m\u001b[0m\n\u001b[0;32m    404\u001b[0m             \u001b[1;32mreturn\u001b[0m \u001b[0m_default_pprint\u001b[0m\u001b[1;33m(\u001b[0m\u001b[0mobj\u001b[0m\u001b[1;33m,\u001b[0m \u001b[0mself\u001b[0m\u001b[1;33m,\u001b[0m \u001b[0mcycle\u001b[0m\u001b[1;33m)\u001b[0m\u001b[1;33m\u001b[0m\u001b[1;33m\u001b[0m\u001b[0m\n",
      "\u001b[1;32mc:\\users\\student\\appdata\\local\\programs\\python\\python37\\lib\\site-packages\\IPython\\lib\\pretty.py\u001b[0m in \u001b[0;36m_repr_pprint\u001b[1;34m(obj, p, cycle)\u001b[0m\n\u001b[0;32m    695\u001b[0m     \u001b[1;34m\"\"\"A pprint that just redirects to the normal repr function.\"\"\"\u001b[0m\u001b[1;33m\u001b[0m\u001b[1;33m\u001b[0m\u001b[0m\n\u001b[0;32m    696\u001b[0m     \u001b[1;31m# Find newlines and replace them with p.break_()\u001b[0m\u001b[1;33m\u001b[0m\u001b[1;33m\u001b[0m\u001b[1;33m\u001b[0m\u001b[0m\n\u001b[1;32m--> 697\u001b[1;33m     \u001b[0moutput\u001b[0m \u001b[1;33m=\u001b[0m \u001b[0mrepr\u001b[0m\u001b[1;33m(\u001b[0m\u001b[0mobj\u001b[0m\u001b[1;33m)\u001b[0m\u001b[1;33m\u001b[0m\u001b[1;33m\u001b[0m\u001b[0m\n\u001b[0m\u001b[0;32m    698\u001b[0m     \u001b[1;32mfor\u001b[0m \u001b[0midx\u001b[0m\u001b[1;33m,\u001b[0m\u001b[0moutput_line\u001b[0m \u001b[1;32min\u001b[0m \u001b[0menumerate\u001b[0m\u001b[1;33m(\u001b[0m\u001b[0moutput\u001b[0m\u001b[1;33m.\u001b[0m\u001b[0msplitlines\u001b[0m\u001b[1;33m(\u001b[0m\u001b[1;33m)\u001b[0m\u001b[1;33m)\u001b[0m\u001b[1;33m:\u001b[0m\u001b[1;33m\u001b[0m\u001b[1;33m\u001b[0m\u001b[0m\n\u001b[0;32m    699\u001b[0m         \u001b[1;32mif\u001b[0m \u001b[0midx\u001b[0m\u001b[1;33m:\u001b[0m\u001b[1;33m\u001b[0m\u001b[1;33m\u001b[0m\u001b[0m\n",
      "\u001b[1;32m<ipython-input-19-62f27851356d>\u001b[0m in \u001b[0;36m__repr__\u001b[1;34m(self)\u001b[0m\n\u001b[0;32m     23\u001b[0m \u001b[1;33m\u001b[0m\u001b[0m\n\u001b[0;32m     24\u001b[0m     \u001b[1;32mdef\u001b[0m \u001b[0m__repr__\u001b[0m\u001b[1;33m(\u001b[0m\u001b[0mself\u001b[0m\u001b[1;33m)\u001b[0m\u001b[1;33m:\u001b[0m\u001b[1;33m\u001b[0m\u001b[1;33m\u001b[0m\u001b[0m\n\u001b[1;32m---> 25\u001b[1;33m         \u001b[1;32mreturn\u001b[0m \u001b[1;34mf'{self}입니다.'\u001b[0m\u001b[1;33m\u001b[0m\u001b[1;33m\u001b[0m\u001b[0m\n\u001b[0m",
      "... last 1 frames repeated, from the frame below ...\n",
      "\u001b[1;32m<ipython-input-19-62f27851356d>\u001b[0m in \u001b[0;36m__repr__\u001b[1;34m(self)\u001b[0m\n\u001b[0;32m     23\u001b[0m \u001b[1;33m\u001b[0m\u001b[0m\n\u001b[0;32m     24\u001b[0m     \u001b[1;32mdef\u001b[0m \u001b[0m__repr__\u001b[0m\u001b[1;33m(\u001b[0m\u001b[0mself\u001b[0m\u001b[1;33m)\u001b[0m\u001b[1;33m:\u001b[0m\u001b[1;33m\u001b[0m\u001b[1;33m\u001b[0m\u001b[0m\n\u001b[1;32m---> 25\u001b[1;33m         \u001b[1;32mreturn\u001b[0m \u001b[1;34mf'{self}입니다.'\u001b[0m\u001b[1;33m\u001b[0m\u001b[1;33m\u001b[0m\u001b[0m\n\u001b[0m",
      "\u001b[1;31mRecursionError\u001b[0m: maximum recursion depth exceeded"
     ]
    }
   ],
   "source": [
    "s1 = Stack()\n",
    "s1                #s1에는 items라고 하는 멤버 변수를 가진 상태로 인스터가 만들어진다. "
   ]
  },
  {
   "cell_type": "markdown",
   "metadata": {},
   "source": [
    "## 포켓몬 구현하기\n",
    "\n",
    "> 피카츄를 클래스-인스턴스로 구현해 봅시다. 게임을 만든다면 아래와 같이 먼저 기획을 하고 코드로 구현하게 됩니다.\n",
    "우선 아래와 같이 구현해 보고, 추가로 본인이 원하는 대로 구현 및 수정해 봅시다.\n",
    "\n",
    "모든 피카츄는 다음과 같은 속성을 갖습니다.\n",
    "* `name`: 이름\n",
    "* `level`: 레벨\n",
    "    * 레벨은 시작할 때 모두 5 입니다.\n",
    "* `hp`: 체력\n",
    "    * 체력은 `level` * 20 입니다.\n",
    "* `exp`: 경험치\n",
    "    * 상대방을 쓰러뜨리면 상대방 `level` * 15 를 획득합니다.\n",
    "    * 경험치는 `level` * 100 이 되면, 레벨이 하나 올라가고 0부터 추가 됩니다. \n",
    "\n",
    "모든 피카츄는 다음과 같은 행동(메서드)을 할 수 있습니다.\n",
    "* `bark()`: 울기. `'pikachu'` 를 출력합니다.\n",
    "* `body_attack()`: 몸통박치기. 상대방의 hp 를 내 `level` * 5 만큼 차감합니다.\n",
    "* `thousond_volt()`: 십만볼트. 상대방의 hp 를 내 `level` * 7 만큼 차감합니다."
   ]
  },
  {
   "cell_type": "code",
   "execution_count": 55,
   "metadata": {},
   "outputs": [],
   "source": [
    "# 아래에 코드를 작성해주세요.\n",
    "class Pikachu:\n",
    "    def __init__(self, name='Pikachu'):\n",
    "        self.name = name\n",
    "        self.level = 5\n",
    "        self.hp = self.level * 20 \n",
    "        \n",
    "        \n",
    "    def bark(self):\n",
    "        return '쀼쀼쀼쀼'\n",
    "    \n",
    "    \n",
    "    def body_attack(self, empty):\n",
    "        damage = self.level * 5\n",
    "        enemy.hp -= damage\n",
    "        return f'상대에게 {damage} 만큼의 피해를 입혔다.'\n",
    "    \n",
    "    \n",
    "    def thousand_volt(self, enemy):\n",
    "        damage = self.level * 7\n",
    "        enemy.hp -= damage\n",
    "        return f'상대에게 {damage} 만큼의 피해를 입혔다'\n",
    "    \n",
    "    \n",
    "    def __repr__(self):\n",
    "        return f'lv:{self.levle} /hp:{self.hp}'"
   ]
  },
  {
   "cell_type": "code",
   "execution_count": 56,
   "metadata": {},
   "outputs": [],
   "source": [
    "p1 = Pikachu()\n",
    "p2 = Pikachu('Mewtwo')"
   ]
  },
  {
   "cell_type": "code",
   "execution_count": 57,
   "metadata": {},
   "outputs": [
    {
     "data": {
      "text/plain": [
       "'쀼쀼쀼쀼'"
      ]
     },
     "execution_count": 57,
     "metadata": {},
     "output_type": "execute_result"
    }
   ],
   "source": [
    "p1.bark()"
   ]
  },
  {
   "cell_type": "code",
   "execution_count": 58,
   "metadata": {},
   "outputs": [
    {
     "data": {
      "text/plain": [
       "'쀼쀼쀼쀼'"
      ]
     },
     "execution_count": 58,
     "metadata": {},
     "output_type": "execute_result"
    }
   ],
   "source": [
    "p2.bark()"
   ]
  },
  {
   "cell_type": "code",
   "execution_count": 52,
   "metadata": {},
   "outputs": [
    {
     "data": {
      "text/plain": [
       "100"
      ]
     },
     "execution_count": 52,
     "metadata": {},
     "output_type": "execute_result"
    }
   ],
   "source": [
    "p1.hp\n"
   ]
  },
  {
   "cell_type": "code",
   "execution_count": 53,
   "metadata": {},
   "outputs": [
    {
     "data": {
      "text/plain": [
       "100"
      ]
     },
     "execution_count": 53,
     "metadata": {},
     "output_type": "execute_result"
    }
   ],
   "source": [
    "p2.hp"
   ]
  },
  {
   "cell_type": "code",
   "execution_count": 59,
   "metadata": {},
   "outputs": [
    {
     "ename": "NameError",
     "evalue": "name 'enemy' is not defined",
     "output_type": "error",
     "traceback": [
      "\u001b[1;31m---------------------------------------------------------------------------\u001b[0m",
      "\u001b[1;31mNameError\u001b[0m                                 Traceback (most recent call last)",
      "\u001b[1;32m<ipython-input-59-844068b37b24>\u001b[0m in \u001b[0;36m<module>\u001b[1;34m\u001b[0m\n\u001b[1;32m----> 1\u001b[1;33m \u001b[0mp1\u001b[0m\u001b[1;33m.\u001b[0m\u001b[0mbody_attack\u001b[0m\u001b[1;33m(\u001b[0m\u001b[0mp2\u001b[0m\u001b[1;33m)\u001b[0m\u001b[1;33m\u001b[0m\u001b[1;33m\u001b[0m\u001b[0m\n\u001b[0m",
      "\u001b[1;32m<ipython-input-55-c529c77ecaf5>\u001b[0m in \u001b[0;36mbody_attack\u001b[1;34m(self, empty)\u001b[0m\n\u001b[0;32m     13\u001b[0m     \u001b[1;32mdef\u001b[0m \u001b[0mbody_attack\u001b[0m\u001b[1;33m(\u001b[0m\u001b[0mself\u001b[0m\u001b[1;33m,\u001b[0m \u001b[0mempty\u001b[0m\u001b[1;33m)\u001b[0m\u001b[1;33m:\u001b[0m\u001b[1;33m\u001b[0m\u001b[1;33m\u001b[0m\u001b[0m\n\u001b[0;32m     14\u001b[0m         \u001b[0mdamage\u001b[0m \u001b[1;33m=\u001b[0m \u001b[0mself\u001b[0m\u001b[1;33m.\u001b[0m\u001b[0mlevel\u001b[0m \u001b[1;33m*\u001b[0m \u001b[1;36m5\u001b[0m\u001b[1;33m\u001b[0m\u001b[1;33m\u001b[0m\u001b[0m\n\u001b[1;32m---> 15\u001b[1;33m         \u001b[0menemy\u001b[0m\u001b[1;33m.\u001b[0m\u001b[0mhp\u001b[0m \u001b[1;33m-=\u001b[0m \u001b[0mdamage\u001b[0m\u001b[1;33m\u001b[0m\u001b[1;33m\u001b[0m\u001b[0m\n\u001b[0m\u001b[0;32m     16\u001b[0m         \u001b[1;32mreturn\u001b[0m \u001b[1;34mf'상대에게 {damage} 만큼의 피해를 입혔다.'\u001b[0m\u001b[1;33m\u001b[0m\u001b[1;33m\u001b[0m\u001b[0m\n\u001b[0;32m     17\u001b[0m \u001b[1;33m\u001b[0m\u001b[0m\n",
      "\u001b[1;31mNameError\u001b[0m: name 'enemy' is not defined"
     ]
    }
   ],
   "source": [
    "p1.body_attack(p2)"
   ]
  },
  {
   "cell_type": "code",
   "execution_count": null,
   "metadata": {},
   "outputs": [],
   "source": []
  },
  {
   "cell_type": "markdown",
   "metadata": {},
   "source": [
    "### Workshop\n",
    "> 다음 조건에 맞는 Circle 클래스를 만들어 보세요.\n",
    "\n",
    "클래스 속성\n",
    "* `pi`: 3.14\n",
    "\n",
    "인스턴스 속성 (초기화 시 필요한 값들)\n",
    "* `r`: 원의 반지름 (필수 입력)\n",
    "* `x`: x좌표 (default 0)\n",
    "* `y`: y좌표 (default 0)\n",
    "\n",
    "인스턴스 메서드\n",
    "* `area()`: 원의 넓이를 반환\n",
    "* `circumference()`: 원의 둘레를 반환\n",
    "* `center()`: 원의 중심인 (x, y) 좌표를 튜플로 반환\n",
    "* `move(x, y)`: 원의 중심인 (x, y) 좌표를 입력받은 값으로 변경하고 변경된 좌표값을 튜플로 반환"
   ]
  },
  {
   "cell_type": "code",
   "execution_count": 83,
   "metadata": {},
   "outputs": [],
   "source": [
    "# 여기에 클래스를 정의하세요\n",
    "class Circle:\n",
    "    pi = 3.14\n",
    "    def __init__(self, r, x=0, y=0):\n",
    "        self.r = r\n",
    "        self.x = x\n",
    "        self.y = y\n",
    "     \n",
    "    \n",
    "    def area(self):\n",
    "        return self.r**2 * self.pi # Circle.pi\n",
    "    \n",
    "    \n",
    "    def circumference(self):\n",
    "        return 2*self.r*self.y\n",
    "    \n",
    "    \n",
    "    def center(self):\n",
    "        return self.x, self.y\n",
    "    \n",
    "    \n",
    "    def move(self, x, y):\n",
    "        self.x = x\n",
    "        self.y = y\n",
    "        return self.x, self.y"
   ]
  },
  {
   "cell_type": "code",
   "execution_count": 84,
   "metadata": {},
   "outputs": [
    {
     "data": {
      "text/plain": [
       "(0, 0)"
      ]
     },
     "execution_count": 84,
     "metadata": {},
     "output_type": "execute_result"
    }
   ],
   "source": [
    "c1 = Circle(3)\n",
    "c1.center()  # (0, 0)"
   ]
  },
  {
   "cell_type": "code",
   "execution_count": 85,
   "metadata": {},
   "outputs": [
    {
     "data": {
      "text/plain": [
       "(3, 3)"
      ]
     },
     "execution_count": 85,
     "metadata": {},
     "output_type": "execute_result"
    }
   ],
   "source": [
    "c1.move(3, 3)  # (3, 3) 혹은 더 친절한 메세지"
   ]
  },
  {
   "cell_type": "code",
   "execution_count": 86,
   "metadata": {},
   "outputs": [
    {
     "data": {
      "text/plain": [
       "28.26"
      ]
     },
     "execution_count": 86,
     "metadata": {},
     "output_type": "execute_result"
    }
   ],
   "source": [
    "\n",
    "c1.area()"
   ]
  },
  {
   "cell_type": "code",
   "execution_count": 87,
   "metadata": {},
   "outputs": [
    {
     "data": {
      "text/plain": [
       "(5, 5)"
      ]
     },
     "execution_count": 87,
     "metadata": {},
     "output_type": "execute_result"
    }
   ],
   "source": [
    "c2 = Circle(1, 5, 5)\n",
    "c2.center()"
   ]
  },
  {
   "cell_type": "code",
   "execution_count": 88,
   "metadata": {},
   "outputs": [
    {
     "data": {
      "text/plain": [
       "10"
      ]
     },
     "execution_count": 88,
     "metadata": {},
     "output_type": "execute_result"
    }
   ],
   "source": [
    "c2.circumference()"
   ]
  },
  {
   "cell_type": "code",
   "execution_count": 89,
   "metadata": {},
   "outputs": [
    {
     "data": {
      "text/plain": [
       "3.14"
      ]
     },
     "execution_count": 89,
     "metadata": {},
     "output_type": "execute_result"
    }
   ],
   "source": [
    "c2.area()"
   ]
  },
  {
   "cell_type": "code",
   "execution_count": null,
   "metadata": {},
   "outputs": [],
   "source": []
  }
 ],
 "metadata": {
  "kernelspec": {
   "display_name": "Python 3",
   "language": "python",
   "name": "python3"
  },
  "language_info": {
   "codemirror_mode": {
    "name": "ipython",
    "version": 3
   },
   "file_extension": ".py",
   "mimetype": "text/x-python",
   "name": "python",
   "nbconvert_exporter": "python",
   "pygments_lexer": "ipython3",
   "version": "3.7.3"
  },
  "latex_envs": {
   "LaTeX_envs_menu_present": true,
   "autoclose": false,
   "autocomplete": true,
   "bibliofile": "biblio.bib",
   "cite_by": "apalike",
   "current_citInitial": 1,
   "eqLabelWithNumbers": true,
   "eqNumInitial": 1,
   "hotkeys": {
    "equation": "Ctrl-E",
    "itemize": "Ctrl-I"
   },
   "labels_anchors": false,
   "latex_user_defs": false,
   "report_style_numbering": false,
   "user_envs_cfg": false
  },
  "toc": {
   "base_numbering": 1,
   "nav_menu": {},
   "number_sections": true,
   "sideBar": true,
   "skip_h1_title": false,
   "title_cell": "Table of Contents",
   "title_sidebar": "Contents",
   "toc_cell": false,
   "toc_position": {
    "height": "calc(100% - 180px)",
    "left": "10px",
    "top": "150px",
    "width": "206.797px"
   },
   "toc_section_display": true,
   "toc_window_display": true
  }
 },
 "nbformat": 4,
 "nbformat_minor": 2
}
